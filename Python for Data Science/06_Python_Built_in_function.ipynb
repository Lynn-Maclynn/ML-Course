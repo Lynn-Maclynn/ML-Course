{
 "cells": [
  {
   "cell_type": "markdown",
   "id": "c9fbbaa6",
   "metadata": {},
   "source": [
    "## BUILT-IN FUNCTIONS de python\n",
    "\n",
    "disponible à l'adresse : **docs.python.org/3/library/function.html**"
   ]
  },
  {
   "cell_type": "markdown",
   "id": "5846853f",
   "metadata": {},
   "source": [
    "**Les plus importantes en datascience, deep learning et machine learning**\n",
    "\n",
    "- *abs()*, *all()*, *input()*\n",
    "- *any()*, *bin()*, *int()*\n",
    "- *dict()*, *float()*, *list()*\n",
    "- *format()*, *hex()*, *open()*\n",
    "- *max()*, *min()*, *oct()*\n",
    "- *round()*, *str()*, *sum()*\n",
    "- *tuple()*, *type()* \n"
   ]
  },
  {
   "cell_type": "code",
   "execution_count": 1,
   "id": "52c0baa4",
   "metadata": {},
   "outputs": [
    {
     "name": "stdout",
     "output_type": "stream",
     "text": [
      "3.14\n",
      "-3\n"
     ]
    }
   ],
   "source": [
    "x = -3.14\n",
    "print(abs(x))\n",
    "print(round(x))"
   ]
  },
  {
   "cell_type": "code",
   "execution_count": 2,
   "id": "44c1ac37",
   "metadata": {},
   "outputs": [
    {
     "name": "stdout",
     "output_type": "stream",
     "text": [
      "22\n"
     ]
    }
   ],
   "source": [
    "liste = [ 4, 8, -5, 6, 9]\n",
    "print(sum(liste))"
   ]
  },
  {
   "cell_type": "code",
   "execution_count": 3,
   "id": "e928f2cb",
   "metadata": {},
   "outputs": [
    {
     "name": "stdout",
     "output_type": "stream",
     "text": [
      "9\n"
     ]
    }
   ],
   "source": [
    "print(max(liste))"
   ]
  },
  {
   "cell_type": "code",
   "execution_count": 4,
   "id": "b9c3b8a4",
   "metadata": {},
   "outputs": [
    {
     "name": "stdout",
     "output_type": "stream",
     "text": [
      "-5\n"
     ]
    }
   ],
   "source": [
    "print(min(liste))"
   ]
  },
  {
   "cell_type": "code",
   "execution_count": 6,
   "id": "e7ec38c9",
   "metadata": {},
   "outputs": [
    {
     "name": "stdout",
     "output_type": "stream",
     "text": [
      "True\n",
      "True\n"
     ]
    }
   ],
   "source": [
    "print(all(liste))\n",
    "print(any(liste))"
   ]
  },
  {
   "cell_type": "markdown",
   "id": "75911c16",
   "metadata": {},
   "source": [
    "**all()** retourne **True** si tous les éléments de la liste sont différents de 0 ou sont égales à True si ce sont des variables de type booléen.\n",
    "\n",
    "**any()** retourne **True** si au moins un élément de la liste est différent 0 ou égale à True"
   ]
  },
  {
   "cell_type": "code",
   "execution_count": 13,
   "id": "15c62e50",
   "metadata": {},
   "outputs": [
    {
     "name": "stdout",
     "output_type": "stream",
     "text": [
      "entrer un nombre 5\n"
     ]
    }
   ],
   "source": [
    "x = input('entrer un nombre ')"
   ]
  },
  {
   "cell_type": "code",
   "execution_count": 14,
   "id": "3817ce4c",
   "metadata": {},
   "outputs": [
    {
     "data": {
      "text/plain": [
       "str"
      ]
     },
     "execution_count": 14,
     "metadata": {},
     "output_type": "execute_result"
    }
   ],
   "source": [
    "type(x)"
   ]
  },
  {
   "cell_type": "code",
   "execution_count": 15,
   "id": "462ad3c3",
   "metadata": {},
   "outputs": [
    {
     "data": {
      "text/plain": [
       "'55'"
      ]
     },
     "execution_count": 15,
     "metadata": {},
     "output_type": "execute_result"
    }
   ],
   "source": [
    "x = x*2\n",
    "x"
   ]
  },
  {
   "cell_type": "code",
   "execution_count": 16,
   "id": "2f776b65",
   "metadata": {},
   "outputs": [
    {
     "name": "stdout",
     "output_type": "stream",
     "text": [
      "entrer un nombre 5\n"
     ]
    },
    {
     "data": {
      "text/plain": [
       "10"
      ]
     },
     "execution_count": 16,
     "metadata": {},
     "output_type": "execute_result"
    }
   ],
   "source": [
    "x = int(input('entrer un nombre '))\n",
    "\n",
    "x = x*2\n",
    "x"
   ]
  },
  {
   "cell_type": "code",
   "execution_count": null,
   "id": "5ece032d",
   "metadata": {},
   "outputs": [],
   "source": []
  },
  {
   "cell_type": "markdown",
   "id": "5aa83983",
   "metadata": {},
   "source": [
    "## EXERCICE\n",
    "\n",
    "Ecrire une fonction qui va lire le fichier écrit précédemment et insérer toutes les lignes dans une liste"
   ]
  },
  {
   "cell_type": "code",
   "execution_count": null,
   "id": "ce10a969",
   "metadata": {},
   "outputs": [],
   "source": []
  }
 ],
 "metadata": {
  "kernelspec": {
   "display_name": "Python 3 (ipykernel)",
   "language": "python",
   "name": "python3"
  },
  "language_info": {
   "codemirror_mode": {
    "name": "ipython",
    "version": 3
   },
   "file_extension": ".py",
   "mimetype": "text/x-python",
   "name": "python",
   "nbconvert_exporter": "python",
   "pygments_lexer": "ipython3",
   "version": "3.11.5"
  }
 },
 "nbformat": 4,
 "nbformat_minor": 5
}
