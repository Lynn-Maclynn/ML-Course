{
 "cells": [
  {
   "cell_type": "code",
   "execution_count": 1,
   "id": "32e7a015",
   "metadata": {},
   "outputs": [],
   "source": [
    "import numpy as np"
   ]
  },
  {
   "cell_type": "code",
   "execution_count": 4,
   "id": "a7f1b2b2",
   "metadata": {},
   "outputs": [
    {
     "name": "stdout",
     "output_type": "stream",
     "text": [
      "[11 12 13 21 22 23 31 32 33 41 42 43]\n",
      "[11 12 13 21 22 23 31 32 33 41 42 43]\n"
     ]
    }
   ],
   "source": [
    "A = np.array([[11, 12, 13],\n",
    "              [21, 22, 23],\n",
    "              [31, 32, 33],\n",
    "              [41, 42, 43]])\n",
    "print(A.flatten())\n",
    "print(A.ravel())"
   ]
  },
  {
   "cell_type": "code",
   "execution_count": 5,
   "id": "e719c625",
   "metadata": {},
   "outputs": [
    {
     "name": "stdout",
     "output_type": "stream",
     "text": [
      "[[[11 12 13]\n",
      "  [21 22 23]]\n",
      "\n",
      " [[31 32 33]\n",
      "  [41 42 43]]]\n"
     ]
    }
   ],
   "source": [
    "B = A.ravel()\n",
    "print(B.reshape(2,2,3))"
   ]
  },
  {
   "cell_type": "code",
   "execution_count": 7,
   "id": "9bc51446",
   "metadata": {},
   "outputs": [
    {
     "name": "stdout",
     "output_type": "stream",
     "text": [
      "[11 22 18  7  6  1  3  5]\n"
     ]
    }
   ],
   "source": [
    "x = np.array([11,22])\n",
    "y = np.array([18,7,6])\n",
    "z = np.array([1,3,5])\n",
    "\n",
    "c = np.concatenate((x,y,z))\n",
    "print(c)"
   ]
  },
  {
   "cell_type": "markdown",
   "id": "1a8f8786",
   "metadata": {},
   "source": [
    "If we are concatenating multidimensional arrays, we can concatenate the arrays according to axis. **Arrays must\n",
    " have the same shape to be concatenated with concatenate().**"
   ]
  },
  {
   "cell_type": "code",
   "execution_count": 9,
   "id": "606f76f1",
   "metadata": {},
   "outputs": [
    {
     "name": "stdout",
     "output_type": "stream",
     "text": [
      "(6, 4, 2)\n",
      "[[[  0   1]\n",
      "  [  2   3]\n",
      "  [  4   5]\n",
      "  [  6   7]]\n",
      "\n",
      " [[  8   9]\n",
      "  [ 10  11]\n",
      "  [ 12  13]\n",
      "  [ 14  15]]\n",
      "\n",
      " [[ 16  17]\n",
      "  [ 18  19]\n",
      "  [ 20  21]\n",
      "  [ 22  23]]\n",
      "\n",
      " [[100 101]\n",
      "  [102 103]\n",
      "  [104 105]\n",
      "  [106 107]]\n",
      "\n",
      " [[108 109]\n",
      "  [110 111]\n",
      "  [112 113]\n",
      "  [114 115]]\n",
      "\n",
      " [[116 117]\n",
      "  [118 119]\n",
      "  [120 121]\n",
      "  [122 123]]]\n"
     ]
    }
   ],
   "source": [
    "x = np.array(range(24))\n",
    "x = x.reshape((3,4,2))\n",
    "y = np.array(range(100,124))\n",
    "y = y.reshape((3,4,2))\n",
    "\n",
    "\n",
    "z = np.concatenate((x,y))\n",
    "print(z.shape)\n",
    "print(z)"
   ]
  },
  {
   "cell_type": "markdown",
   "id": "128b87b9",
   "metadata": {},
   "source": [
    "In the case of multidimensional arrays, we can\n",
    " arrange them according to the axis. The default value is axis = 0"
   ]
  },
  {
   "cell_type": "code",
   "execution_count": 10,
   "id": "871b81f8",
   "metadata": {},
   "outputs": [
    {
     "name": "stdout",
     "output_type": "stream",
     "text": [
      "(3, 8, 2)\n",
      "[[[  0   1]\n",
      "  [  2   3]\n",
      "  [  4   5]\n",
      "  [  6   7]\n",
      "  [100 101]\n",
      "  [102 103]\n",
      "  [104 105]\n",
      "  [106 107]]\n",
      "\n",
      " [[  8   9]\n",
      "  [ 10  11]\n",
      "  [ 12  13]\n",
      "  [ 14  15]\n",
      "  [108 109]\n",
      "  [110 111]\n",
      "  [112 113]\n",
      "  [114 115]]\n",
      "\n",
      " [[ 16  17]\n",
      "  [ 18  19]\n",
      "  [ 20  21]\n",
      "  [ 22  23]\n",
      "  [116 117]\n",
      "  [118 119]\n",
      "  [120 121]\n",
      "  [122 123]]]\n"
     ]
    }
   ],
   "source": [
    "z = np.concatenate((x,y), axis = 1)\n",
    "print(z.shape)\n",
    "print(z)"
   ]
  },
  {
   "cell_type": "code",
   "execution_count": 11,
   "id": "14048df6",
   "metadata": {},
   "outputs": [
    {
     "name": "stdout",
     "output_type": "stream",
     "text": [
      "(3, 4, 4)\n",
      "[[[  0   1 100 101]\n",
      "  [  2   3 102 103]\n",
      "  [  4   5 104 105]\n",
      "  [  6   7 106 107]]\n",
      "\n",
      " [[  8   9 108 109]\n",
      "  [ 10  11 110 111]\n",
      "  [ 12  13 112 113]\n",
      "  [ 14  15 114 115]]\n",
      "\n",
      " [[ 16  17 116 117]\n",
      "  [ 18  19 118 119]\n",
      "  [ 20  21 120 121]\n",
      "  [ 22  23 122 123]]]\n"
     ]
    }
   ],
   "source": [
    "z = np.concatenate((x,y), axis = 2)\n",
    "print(z.shape)\n",
    "print(z)"
   ]
  },
  {
   "cell_type": "markdown",
   "id": "a136a5ad",
   "metadata": {},
   "source": [
    "**ADDING NEW DIMENSIONS**\n",
    "\n",
    "New dimensions can be added to an array by using slicing and np.newaxis"
   ]
  },
  {
   "cell_type": "code",
   "execution_count": 18,
   "id": "0f3077cc",
   "metadata": {},
   "outputs": [
    {
     "name": "stdout",
     "output_type": "stream",
     "text": [
      "1\n",
      "2\n",
      "[[ 2]\n",
      " [ 5]\n",
      " [18]\n",
      " [14]\n",
      " [ 4]]\n"
     ]
    }
   ],
   "source": [
    "x = np.array([2,5,18,14,4])\n",
    "y = x[:, np.newaxis]\n",
    "\n",
    "print(x.ndim)\n",
    "print(y.ndim)\n",
    "print(y)"
   ]
  },
  {
   "cell_type": "code",
   "execution_count": 17,
   "id": "20ddd15d",
   "metadata": {},
   "outputs": [
    {
     "name": "stdout",
     "output_type": "stream",
     "text": [
      "3\n",
      "[[[ 2]]\n",
      "\n",
      " [[ 5]]\n",
      "\n",
      " [[18]]\n",
      "\n",
      " [[14]]\n",
      "\n",
      " [[ 4]]]\n"
     ]
    }
   ],
   "source": [
    "y = y[:, np.newaxis]\n",
    "print(y.ndim)\n",
    "print(y)"
   ]
  },
  {
   "cell_type": "markdown",
   "id": "1d6f361c",
   "metadata": {},
   "source": [
    "**VECTOR STACKING**"
   ]
  },
  {
   "cell_type": "code",
   "execution_count": 19,
   "id": "23a6d57d",
   "metadata": {},
   "outputs": [
    {
     "name": "stdout",
     "output_type": "stream",
     "text": [
      "[[3 4 5]\n",
      " [1 9 0]]\n",
      "[[3 1]\n",
      " [4 9]\n",
      " [5 0]]\n"
     ]
    },
    {
     "data": {
      "text/plain": [
       "(3,)"
      ]
     },
     "execution_count": 19,
     "metadata": {},
     "output_type": "execute_result"
    }
   ],
   "source": [
    "A = np.array([3, 4, 5])\n",
    "B = np.array([1,9,0])\n",
    "\n",
    "print(np.row_stack((A, B)))\n",
    "print(np.column_stack((A, B)))\n",
    "np.shape(A)"
   ]
  },
  {
   "cell_type": "code",
   "execution_count": 20,
   "id": "513840dc",
   "metadata": {},
   "outputs": [
    {
     "data": {
      "text/plain": [
       "array([[3, 4, 5, 3, 4, 5, 3, 4, 5],\n",
       "       [1, 9, 0, 1, 9, 0, 1, 9, 0],\n",
       "       [4, 6, 8, 4, 6, 8, 4, 6, 8]])"
      ]
     },
     "execution_count": 20,
     "metadata": {},
     "output_type": "execute_result"
    }
   ],
   "source": [
    "A = np.array([[3, 4, 5],\n",
    "              [1, 9, 0],\n",
    "              [4, 6, 8]])\n",
    "np.column_stack((A, A, A))"
   ]
  },
  {
   "cell_type": "code",
   "execution_count": 21,
   "id": "96bd566c",
   "metadata": {},
   "outputs": [
    {
     "data": {
      "text/plain": [
       "array([[3, 4, 5],\n",
       "       [1, 9, 0],\n",
       "       [4, 6, 8],\n",
       "       [3, 4, 5],\n",
       "       [1, 9, 0],\n",
       "       [4, 6, 8],\n",
       "       [3, 4, 5],\n",
       "       [1, 9, 0],\n",
       "       [4, 6, 8]])"
      ]
     },
     "execution_count": 21,
     "metadata": {},
     "output_type": "execute_result"
    }
   ],
   "source": [
    "np.row_stack((A, A, A))"
   ]
  },
  {
   "cell_type": "code",
   "execution_count": 22,
   "id": "e0049013",
   "metadata": {},
   "outputs": [
    {
     "data": {
      "text/plain": [
       "array([[[3, 3, 3],\n",
       "        [4, 4, 4],\n",
       "        [5, 5, 5]],\n",
       "\n",
       "       [[1, 1, 1],\n",
       "        [9, 9, 9],\n",
       "        [0, 0, 0]],\n",
       "\n",
       "       [[4, 4, 4],\n",
       "        [6, 6, 6],\n",
       "        [8, 8, 8]]])"
      ]
     },
     "execution_count": 22,
     "metadata": {},
     "output_type": "execute_result"
    }
   ],
   "source": [
    "np.dstack((A, A, A))"
   ]
  },
  {
   "cell_type": "code",
   "execution_count": 27,
   "id": "98082689",
   "metadata": {},
   "outputs": [
    {
     "name": "stdout",
     "output_type": "stream",
     "text": [
      "[[3 3 3]\n",
      " [4 4 4]\n",
      " [5 5 5]]\n",
      "[[3 4 5]\n",
      " [3 4 5]\n",
      " [3 4 5]]\n"
     ]
    }
   ],
   "source": [
    "B = A[0]\n",
    "print(np.column_stack((B,B,B)))\n",
    "print(np.row_stack((B,B,B)))"
   ]
  },
  {
   "cell_type": "markdown",
   "id": "023738ce",
   "metadata": {},
   "source": [
    "**REPEATING PATTERNS, THE \"TILE\" METHOD**\n",
    "\n",
    "*tile(A, reps)*\n",
    "\n",
    " 'reps' is usually a tuple (or list) which defines the number of repetitions along the corresponding axis /\n",
    " directions. if we set reps to (3, 4) for example, A will be repeated 3 times for the \"rows\" and 4 times in the\n",
    " direction of the columna"
   ]
  },
  {
   "cell_type": "code",
   "execution_count": 23,
   "id": "9bc5459e",
   "metadata": {},
   "outputs": [
    {
     "name": "stdout",
     "output_type": "stream",
     "text": [
      "[3.4 3.4 3.4 3.4 3.4]\n",
      "[3.4 3.4 3.4 3.4 3.4]\n"
     ]
    }
   ],
   "source": [
    "x = np.array([ 3.4])\n",
    "y = np.tile(x, (5,))\n",
    "print(y)\n",
    "\n",
    "y = np.tile(x, 5)\n",
    "print(y)"
   ]
  },
  {
   "cell_type": "code",
   "execution_count": 24,
   "id": "deffce31",
   "metadata": {},
   "outputs": [
    {
     "data": {
      "text/plain": [
       "array([[1, 2, 1, 2, 1, 2, 1, 2],\n",
       "       [3, 4, 3, 4, 3, 4, 3, 4],\n",
       "       [1, 2, 1, 2, 1, 2, 1, 2],\n",
       "       [3, 4, 3, 4, 3, 4, 3, 4],\n",
       "       [1, 2, 1, 2, 1, 2, 1, 2],\n",
       "       [3, 4, 3, 4, 3, 4, 3, 4]])"
      ]
     },
     "execution_count": 24,
     "metadata": {},
     "output_type": "execute_result"
    }
   ],
   "source": [
    "x = np.array([ [1, 2], [3, 4]])\n",
    "np.tile(x, (3,4))"
   ]
  },
  {
   "cell_type": "code",
   "execution_count": null,
   "id": "6b46dc9b",
   "metadata": {},
   "outputs": [],
   "source": []
  }
 ],
 "metadata": {
  "kernelspec": {
   "display_name": "Python 3 (ipykernel)",
   "language": "python",
   "name": "python3"
  },
  "language_info": {
   "codemirror_mode": {
    "name": "ipython",
    "version": 3
   },
   "file_extension": ".py",
   "mimetype": "text/x-python",
   "name": "python",
   "nbconvert_exporter": "python",
   "pygments_lexer": "ipython3",
   "version": "3.11.5"
  }
 },
 "nbformat": 4,
 "nbformat_minor": 5
}
