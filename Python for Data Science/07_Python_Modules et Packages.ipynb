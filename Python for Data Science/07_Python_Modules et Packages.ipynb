{
 "cells": [
  {
   "cell_type": "markdown",
   "id": "c22cfea4",
   "metadata": {},
   "source": [
    "## MODULES"
   ]
  },
  {
   "cell_type": "markdown",
   "id": "c4432149",
   "metadata": {},
   "source": [
    "**MODULE 1 : math**"
   ]
  },
  {
   "cell_type": "code",
   "execution_count": 7,
   "id": "169478b1",
   "metadata": {},
   "outputs": [],
   "source": [
    "import math"
   ]
  },
  {
   "cell_type": "code",
   "execution_count": 8,
   "id": "ffa581f2",
   "metadata": {},
   "outputs": [
    {
     "data": {
      "text/plain": [
       "-1.0"
      ]
     },
     "execution_count": 8,
     "metadata": {},
     "output_type": "execute_result"
    }
   ],
   "source": [
    "math.cos(math.pi)"
   ]
  },
  {
   "cell_type": "code",
   "execution_count": 9,
   "id": "43a73586",
   "metadata": {},
   "outputs": [
    {
     "data": {
      "text/plain": [
       "148.4131591025766"
      ]
     },
     "execution_count": 9,
     "metadata": {},
     "output_type": "execute_result"
    }
   ],
   "source": [
    " math.exp(5)"
   ]
  },
  {
   "cell_type": "markdown",
   "id": "d4d3a026",
   "metadata": {},
   "source": [
    "**MODULE 2 : statistics**"
   ]
  },
  {
   "cell_type": "code",
   "execution_count": 14,
   "id": "75bb860b",
   "metadata": {},
   "outputs": [],
   "source": [
    "import statistics"
   ]
  },
  {
   "cell_type": "code",
   "execution_count": 15,
   "id": "aa6369f7",
   "metadata": {},
   "outputs": [
    {
     "data": {
      "text/plain": [
       "[100, 121, 144, 169, 196]"
      ]
     },
     "execution_count": 15,
     "metadata": {},
     "output_type": "execute_result"
    }
   ],
   "source": [
    "liste = [i**2 for i in range(10,15)]\n",
    "liste"
   ]
  },
  {
   "cell_type": "code",
   "execution_count": 16,
   "id": "89a59fe4",
   "metadata": {},
   "outputs": [
    {
     "data": {
      "text/plain": [
       "146"
      ]
     },
     "execution_count": 16,
     "metadata": {},
     "output_type": "execute_result"
    }
   ],
   "source": [
    "statistics.mean(liste)"
   ]
  },
  {
   "cell_type": "code",
   "execution_count": 20,
   "id": "dbe5e391",
   "metadata": {},
   "outputs": [
    {
     "data": {
      "text/plain": [
       "1443.5"
      ]
     },
     "execution_count": 20,
     "metadata": {},
     "output_type": "execute_result"
    }
   ],
   "source": [
    "statistics.variance(liste)"
   ]
  },
  {
   "cell_type": "code",
   "execution_count": 21,
   "id": "1bbe6e64",
   "metadata": {},
   "outputs": [
    {
     "data": {
      "text/plain": [
       "37.993420483025744"
      ]
     },
     "execution_count": 21,
     "metadata": {},
     "output_type": "execute_result"
    }
   ],
   "source": [
    "statistics.stdev(liste)"
   ]
  },
  {
   "cell_type": "markdown",
   "id": "fb48b4f9",
   "metadata": {},
   "source": [
    "**MODULE 3 : random**"
   ]
  },
  {
   "cell_type": "code",
   "execution_count": 22,
   "id": "6873f4d3",
   "metadata": {},
   "outputs": [],
   "source": [
    "import random"
   ]
  },
  {
   "cell_type": "code",
   "execution_count": 24,
   "id": "ad1962ba",
   "metadata": {},
   "outputs": [
    {
     "data": {
      "text/plain": [
       "100"
      ]
     },
     "execution_count": 24,
     "metadata": {},
     "output_type": "execute_result"
    }
   ],
   "source": [
    "random.choice(liste)"
   ]
  },
  {
   "cell_type": "code",
   "execution_count": 27,
   "id": "8a2e3a14",
   "metadata": {},
   "outputs": [
    {
     "data": {
      "text/plain": [
       "0.7437896901125757"
      ]
     },
     "execution_count": 27,
     "metadata": {},
     "output_type": "execute_result"
    }
   ],
   "source": [
    "random.random()"
   ]
  },
  {
   "cell_type": "code",
   "execution_count": 28,
   "id": "f46a3b2a",
   "metadata": {},
   "outputs": [],
   "source": [
    "random.seed(0)"
   ]
  },
  {
   "cell_type": "code",
   "execution_count": 31,
   "id": "73d8ba7a",
   "metadata": {},
   "outputs": [
    {
     "data": {
      "text/plain": [
       "100"
      ]
     },
     "execution_count": 31,
     "metadata": {},
     "output_type": "execute_result"
    }
   ],
   "source": [
    "random.choice(liste)"
   ]
  },
  {
   "cell_type": "code",
   "execution_count": 37,
   "id": "5c2ff595",
   "metadata": {},
   "outputs": [
    {
     "data": {
      "text/plain": [
       "0.8444218515250481"
      ]
     },
     "execution_count": 37,
     "metadata": {},
     "output_type": "execute_result"
    }
   ],
   "source": [
    "random.seed(0)\n",
    "random.random()"
   ]
  },
  {
   "cell_type": "code",
   "execution_count": 42,
   "id": "df52d0f7",
   "metadata": {},
   "outputs": [
    {
     "data": {
      "text/plain": [
       "66"
      ]
     },
     "execution_count": 42,
     "metadata": {},
     "output_type": "execute_result"
    }
   ],
   "source": [
    "random.randint(1,100)"
   ]
  },
  {
   "cell_type": "code",
   "execution_count": 43,
   "id": "3ce6eb0f",
   "metadata": {},
   "outputs": [
    {
     "data": {
      "text/plain": [
       "[31, 25, 19, 30, 11, 18, 28, 6, 16, 4]"
      ]
     },
     "execution_count": 43,
     "metadata": {},
     "output_type": "execute_result"
    }
   ],
   "source": [
    "random.sample(range(35),10)"
   ]
  },
  {
   "cell_type": "code",
   "execution_count": 44,
   "id": "e88d0c9f",
   "metadata": {},
   "outputs": [
    {
     "data": {
      "text/plain": [
       "4"
      ]
     },
     "execution_count": 44,
     "metadata": {},
     "output_type": "execute_result"
    }
   ],
   "source": [
    "random.randrange(10)"
   ]
  },
  {
   "cell_type": "code",
   "execution_count": 49,
   "id": "2b7e5854",
   "metadata": {},
   "outputs": [
    {
     "data": {
      "text/plain": [
       "[7, 8]"
      ]
     },
     "execution_count": 49,
     "metadata": {},
     "output_type": "execute_result"
    }
   ],
   "source": [
    "random.sample(range(10),random.randrange(5))"
   ]
  },
  {
   "cell_type": "markdown",
   "id": "ce855e19",
   "metadata": {},
   "source": [
    "**MODULE 4 : os**"
   ]
  },
  {
   "cell_type": "markdown",
   "id": "60299d1c",
   "metadata": {},
   "source": [
    "**MODULE : glob**"
   ]
  },
  {
   "cell_type": "code",
   "execution_count": null,
   "id": "aa3a234b",
   "metadata": {},
   "outputs": [],
   "source": []
  }
 ],
 "metadata": {
  "kernelspec": {
   "display_name": "Python 3 (ipykernel)",
   "language": "python",
   "name": "python3"
  },
  "language_info": {
   "codemirror_mode": {
    "name": "ipython",
    "version": 3
   },
   "file_extension": ".py",
   "mimetype": "text/x-python",
   "name": "python",
   "nbconvert_exporter": "python",
   "pygments_lexer": "ipython3",
   "version": "3.11.5"
  }
 },
 "nbformat": 4,
 "nbformat_minor": 5
}
