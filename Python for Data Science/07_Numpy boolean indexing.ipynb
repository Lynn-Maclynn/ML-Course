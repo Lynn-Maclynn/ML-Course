{
 "cells": [
  {
   "cell_type": "code",
   "execution_count": 9,
   "id": "d3d7c042",
   "metadata": {},
   "outputs": [],
   "source": [
    "import numpy as np"
   ]
  },
  {
   "cell_type": "code",
   "execution_count": 10,
   "id": "0ff13e95",
   "metadata": {},
   "outputs": [
    {
     "name": "stdout",
     "output_type": "stream",
     "text": [
      "[ True False False  True False False]\n"
     ]
    }
   ],
   "source": [
    "A = np.array([4, 7, 3, 4, 2, 8])\n",
    " \n",
    "print(A == 4)"
   ]
  },
  {
   "cell_type": "code",
   "execution_count": 11,
   "id": "29199876",
   "metadata": {},
   "outputs": [
    {
     "name": "stdout",
     "output_type": "stream",
     "text": [
      "[ True False  True  True  True False]\n"
     ]
    }
   ],
   "source": [
    "print(A<5)"
   ]
  },
  {
   "cell_type": "code",
   "execution_count": 12,
   "id": "72d44a75",
   "metadata": {},
   "outputs": [
    {
     "name": "stdout",
     "output_type": "stream",
     "text": [
      "[[ True  True  True  True]\n",
      " [ True  True  True False]\n",
      " [ True  True False False]]\n"
     ]
    }
   ],
   "source": [
    "B = np.array([[42,56,89,65],\n",
    "              [99,88,42,12],\n",
    "              [55,42,17,18]])\n",
    "print(B>=42)"
   ]
  },
  {
   "cell_type": "code",
   "execution_count": 24,
   "id": "6e3b7cfa",
   "metadata": {},
   "outputs": [
    {
     "name": "stdout",
     "output_type": "stream",
     "text": [
      "[[0 0 0 0]\n",
      " [0 0 0 1]\n",
      " [0 0 1 1]]\n",
      "[[0 0 0 0]\n",
      " [0 0 0 1]\n",
      " [0 0 1 1]]\n"
     ]
    }
   ],
   "source": [
    "B = np.array([[42,56,89,65],\n",
    "              [99,88,42,12],\n",
    "              [55,42,17,18]])\n",
    "C = B<42\n",
    "#print(C)\n",
    "print(C.astype(int))\n",
    "print(C.astype(np.int8))"
   ]
  },
  {
   "cell_type": "markdown",
   "id": "54b1efaf",
   "metadata": {},
   "source": [
    "*FANCY INDEXING*"
   ]
  },
  {
   "cell_type": "code",
   "execution_count": 33,
   "id": "cdf1778d",
   "metadata": {},
   "outputs": [
    {
     "name": "stdout",
     "output_type": "stream",
     "text": [
      "[140 129 140 135 128 129 119 131]\n",
      "[8 3 5 8 8 9 8 4]\n",
      "[129 140 131]\n"
     ]
    }
   ],
   "source": [
    "C = np.array(np.random.choice(range(100,150), size = 8))\n",
    "A = np.array(np.random.randint(1, 10, size = 8))\n",
    "print(C)\n",
    "print(A)\n",
    "\n",
    "\n",
    "R = C[A<=5]\n",
    "print(R)"
   ]
  },
  {
   "cell_type": "markdown",
   "id": "95e579e2",
   "metadata": {},
   "source": [
    "The new array R contains all the elements of C where the corresponding value of (A<=5) is\n",
    " True."
   ]
  },
  {
   "cell_type": "code",
   "execution_count": 34,
   "id": "70e2fc9e",
   "metadata": {},
   "outputs": [
    {
     "data": {
      "text/plain": [
       "array([140, 140, 135, 129, 128, 129])"
      ]
     },
     "execution_count": 34,
     "metadata": {},
     "output_type": "execute_result"
    }
   ],
   "source": [
    "C[[0, 2, 3, 1, 4, 1]]"
   ]
  },
  {
   "cell_type": "markdown",
   "id": "6508bfd3",
   "metadata": {},
   "source": [
    "we can index with an integer array. Indices can appear in every order and multiple times!"
   ]
  },
  {
   "cell_type": "markdown",
   "id": "22252ea4",
   "metadata": {},
   "source": [
    "**EXERCISE**"
   ]
  },
  {
   "cell_type": "code",
   "execution_count": 45,
   "id": "e73cdf1a",
   "metadata": {},
   "outputs": [
    {
     "name": "stdout",
     "output_type": "stream",
     "text": [
      "Elements of x not divisible by 3: [  4  10  89  43  46 100]\n",
      "Elements of x divisible by 5: [ 10  45 100]\n",
      "Elements of x divisible by 3 and 5: [45]\n"
     ]
    }
   ],
   "source": [
    "x = np.array([3,4,6,10,24,89,45,43,46,99,100])\n",
    "\n",
    "D3D = x[x%3!=0]\n",
    "print(\"Elements of x not divisible by 3: \" + str(D3D))\n",
    "\n",
    "D5D = x[x%5==0]\n",
    "print(\"Elements of x divisible by 5: \" + str(D5D))\n",
    "\n",
    "D3D5 = x[(x%3==0)&(x%5==0)]\n",
    "print(\"Elements of x divisible by 3 and 5: \" + str(D3D5))"
   ]
  },
  {
   "cell_type": "code",
   "execution_count": 48,
   "id": "2b6eda74",
   "metadata": {},
   "outputs": [
    {
     "name": "stdout",
     "output_type": "stream",
     "text": [
      "New values of A after setting the elements of A, which are divisible by 3, to 42:\n",
      "[ 42   4  42  10  42  89  42  43  46  42 100]\n"
     ]
    }
   ],
   "source": [
    "x[x%3==0] = 42\n",
    "print(\"\"\"New values of A after setting the elements of A, which are divisible by 3, to 42:\"\"\")\n",
    "print(x)"
   ]
  },
  {
   "cell_type": "markdown",
   "id": "b942026c",
   "metadata": {},
   "source": [
    "**NONZERO AND WHERE**\n",
    "\n",
    "For an ndarray a both numpy.nonzero(a) and a.nonzero() return the indices of the elements of a that are non\n",
    "zero"
   ]
  },
  {
   "cell_type": "code",
   "execution_count": 49,
   "id": "91d2f9ba",
   "metadata": {},
   "outputs": [
    {
     "name": "stdout",
     "output_type": "stream",
     "text": [
      "(array([0, 0, 0, 1, 1, 2, 2], dtype=int64), array([1, 2, 4, 0, 3, 0, 3], dtype=int64))\n"
     ]
    }
   ],
   "source": [
    "a = np.array([[0, 2, 3, 0, 1],\n",
    "              [1, 0, 0, 7, 0],\n",
    "              [5, 0, 0, 1, 0]])\n",
    " \n",
    "print(a.nonzero())"
   ]
  },
  {
   "cell_type": "markdown",
   "id": "16d74007",
   "metadata": {},
   "source": [
    "If you want to group the indices by element, you can use transpose:\n",
    "\n",
    "*np.transpose(np.nonzero(a))*"
   ]
  },
  {
   "cell_type": "code",
   "execution_count": 68,
   "id": "98e8e1a0",
   "metadata": {},
   "outputs": [
    {
     "name": "stdout",
     "output_type": "stream",
     "text": [
      "[[0 1]\n",
      " [0 2]\n",
      " [0 4]\n",
      " [1 0]\n",
      " [1 3]\n",
      " [2 0]\n",
      " [2 3]]\n",
      "[[0 1]\n",
      " [0 2]\n",
      " [0 4]\n",
      " [1 0]\n",
      " [1 3]\n",
      " [2 0]\n",
      " [2 3]]\n"
     ]
    }
   ],
   "source": [
    "print(np.transpose(a.nonzero()))\n",
    "print(np.transpose(np.nonzero(a)))"
   ]
  },
  {
   "cell_type": "markdown",
   "id": "3067c1a1",
   "metadata": {},
   "source": [
    " The corresponding non-zero values can be retrieved with:\n",
    " \n",
    " *a[a.nonzero()]* or *a[numpy.nonzero(a)]*"
   ]
  },
  {
   "cell_type": "code",
   "execution_count": 51,
   "id": "e3832935",
   "metadata": {},
   "outputs": [
    {
     "data": {
      "text/plain": [
       "array([2, 3, 1, 1, 7, 5, 1])"
      ]
     },
     "execution_count": 51,
     "metadata": {},
     "output_type": "execute_result"
    }
   ],
   "source": [
    "a[a.nonzero()]"
   ]
  },
  {
   "cell_type": "code",
   "execution_count": 52,
   "id": "63fb5740",
   "metadata": {},
   "outputs": [
    {
     "name": "stdout",
     "output_type": "stream",
     "text": [
      "[[ True  True  True  True]\n",
      " [ True  True  True False]\n",
      " [ True  True False False]]\n"
     ]
    }
   ],
   "source": [
    "B = np.array([[42,56,89,65],\n",
    "              [99,88,42,12],\n",
    "              [55,42,17,18]])\n",
    " \n",
    "print(B >= 42)"
   ]
  },
  {
   "cell_type": "code",
   "execution_count": 53,
   "id": "3215c112",
   "metadata": {},
   "outputs": [
    {
     "data": {
      "text/plain": [
       "array([[0, 0],\n",
       "       [0, 1],\n",
       "       [0, 2],\n",
       "       [0, 3],\n",
       "       [1, 0],\n",
       "       [1, 1],\n",
       "       [1, 2],\n",
       "       [2, 0],\n",
       "       [2, 1]], dtype=int64)"
      ]
     },
     "execution_count": 53,
     "metadata": {},
     "output_type": "execute_result"
    }
   ],
   "source": [
    "np.transpose((B >= 42).nonzero())"
   ]
  },
  {
   "cell_type": "code",
   "execution_count": 54,
   "id": "0761b44a",
   "metadata": {},
   "outputs": [
    {
     "data": {
      "text/plain": [
       "array([42, 56, 89, 65, 99, 88, 42, 55, 42])"
      ]
     },
     "execution_count": 54,
     "metadata": {},
     "output_type": "execute_result"
    }
   ],
   "source": [
    "B[(B >= 42).nonzero()]"
   ]
  },
  {
   "cell_type": "markdown",
   "id": "a19e5149",
   "metadata": {},
   "source": [
    "**EXERCISE**\n",
    "\n",
    "Calculate the prime numbers between 0 and 100 by using a Boolean array."
   ]
  },
  {
   "cell_type": "code",
   "execution_count": 55,
   "id": "758aafa3",
   "metadata": {},
   "outputs": [
    {
     "name": "stdout",
     "output_type": "stream",
     "text": [
      "(array([ 2,  3,  5,  7, 11, 13, 17, 19, 23, 29, 31, 37, 41, 43, 47, 53, 59,\n",
      "       61, 67, 71, 73, 79, 83, 89, 97], dtype=int64),)\n"
     ]
    }
   ],
   "source": [
    "import numpy as np\n",
    " \n",
    "is_prime = np.ones((100,), dtype=bool)\n",
    " \n",
    "# Cross out 0 and 1 which are not primes:\n",
    "is_prime[:2] = 0\n",
    "\n",
    "# cross out its higher multiples (sieve of Eratosthenes):\n",
    "nmax = int(np.sqrt(len(is_prime)))\n",
    "for i in range(2, nmax):\n",
    "    is_prime[2*i::i] = False\n",
    "\n",
    "print(np.nonzero(is_prime))"
   ]
  },
  {
   "cell_type": "code",
   "execution_count": 59,
   "id": "26b5620c",
   "metadata": {},
   "outputs": [
    {
     "name": "stdout",
     "output_type": "stream",
     "text": [
      "(array([ 2,  3,  5,  7, 11, 13, 17, 19, 23, 29, 31, 37, 41, 43, 47, 53, 59,\n",
      "       61, 67, 71, 73, 79, 83, 89, 97], dtype=int64),)\n"
     ]
    }
   ],
   "source": [
    "import numpy as np\n",
    " \n",
    "is_prime = np.ones((100,), dtype=bool)\n",
    "\n",
    "# Cross out 0 and 1 which are not primes:\n",
    "is_prime[:2] = 0\n",
    "\n",
    "# cross out its higher multiples (sieve of Eratosthenes):\n",
    "nmax = int(np.sqrt(len(is_prime)))\n",
    "for i in range(2, nmax):\n",
    "    is_prime[i*i::i] = False     #changes from the precedent program occurs there\n",
    "\n",
    "print(np.nonzero(is_prime))"
   ]
  },
  {
   "cell_type": "markdown",
   "id": "783bac56",
   "metadata": {},
   "source": [
    "**FLATNONZERO AND COUNT_NONZERO**\n",
    "\n",
    "- *flatnonzero* :\n",
    " Return indices that are non-zero in the flattened version of the input\n",
    " array.\n",
    " \n",
    "- *count_nonzero* :\n",
    " Counts the number of non-zero elements in the input array."
   ]
  },
  {
   "cell_type": "code",
   "execution_count": 65,
   "id": "5354c7b5",
   "metadata": {},
   "outputs": [
    {
     "name": "stdout",
     "output_type": "stream",
     "text": [
      "[ 1  2  4  5  8 10 13]\n"
     ]
    }
   ],
   "source": [
    "a = np.array([[0, 2, 3, 0, 1],\n",
    "              [1, 0, 0, 7, 0],\n",
    "              [5, 0, 0, 1, 0]])\n",
    " \n",
    "print(np.flatnonzero(a))"
   ]
  },
  {
   "cell_type": "code",
   "execution_count": 63,
   "id": "cd4d4687",
   "metadata": {},
   "outputs": [
    {
     "name": "stdout",
     "output_type": "stream",
     "text": [
      "7\n"
     ]
    }
   ],
   "source": [
    "print(np.count_nonzero(a))"
   ]
  },
  {
   "cell_type": "code",
   "execution_count": null,
   "id": "133fd408",
   "metadata": {},
   "outputs": [],
   "source": []
  }
 ],
 "metadata": {
  "kernelspec": {
   "display_name": "Python 3 (ipykernel)",
   "language": "python",
   "name": "python3"
  },
  "language_info": {
   "codemirror_mode": {
    "name": "ipython",
    "version": 3
   },
   "file_extension": ".py",
   "mimetype": "text/x-python",
   "name": "python",
   "nbconvert_exporter": "python",
   "pygments_lexer": "ipython3",
   "version": "3.11.5"
  }
 },
 "nbformat": 4,
 "nbformat_minor": 5
}
