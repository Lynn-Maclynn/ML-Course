{
 "cells": [
  {
   "cell_type": "code",
   "execution_count": 1,
   "id": "7755528b",
   "metadata": {},
   "outputs": [],
   "source": [
    "import numpy as np"
   ]
  },
  {
   "cell_type": "markdown",
   "id": "1b2f4257",
   "metadata": {},
   "source": [
    "**I. THE RANDOM MODULE**"
   ]
  },
  {
   "cell_type": "code",
   "execution_count": 24,
   "id": "c793bb3c",
   "metadata": {},
   "outputs": [
    {
     "name": "stdout",
     "output_type": "stream",
     "text": [
      "0.5736031272912688\n"
     ]
    }
   ],
   "source": [
    "import random\n",
    "\n",
    "print(random.random())"
   ]
  },
  {
   "cell_type": "markdown",
   "id": "f722962e",
   "metadata": {},
   "source": [
    "We will show an alternative and **secure approach in the following example**, in which we will use the class\n",
    " SystemRandom of the random module below: "
   ]
  },
  {
   "cell_type": "code",
   "execution_count": 26,
   "id": "377c0397",
   "metadata": {},
   "outputs": [
    {
     "name": "stdout",
     "output_type": "stream",
     "text": [
      "0.06505812831491409\n"
     ]
    }
   ],
   "source": [
    "from random import SystemRandom\n",
    "\n",
    "crypto = SystemRandom()\n",
    "print(crypto.random())"
   ]
  },
  {
   "cell_type": "markdown",
   "id": "083b9f50",
   "metadata": {},
   "source": [
    "The random method of the SystemRandom class generates a float number in the range from 0.0 (included) to\n",
    " 1.0 (not included)"
   ]
  },
  {
   "cell_type": "markdown",
   "id": "6b5aa71c",
   "metadata": {},
   "source": [
    "**GENERATE A LIST OF RANDOM NUMBERS**"
   ]
  },
  {
   "cell_type": "markdown",
   "id": "cd72cb1d",
   "metadata": {},
   "source": [
    "*1. Using pure Python module : random*"
   ]
  },
  {
   "cell_type": "code",
   "execution_count": 25,
   "id": "ee116a86",
   "metadata": {},
   "outputs": [
    {
     "name": "stdout",
     "output_type": "stream",
     "text": [
      "[0.3820621171153087, 0.3820621171153087, 0.3820621171153087, 0.3820621171153087, 0.3820621171153087, 0.3820621171153087, 0.3820621171153087, 0.3820621171153087, 0.3820621171153087, 0.3820621171153087]\n"
     ]
    }
   ],
   "source": [
    "import random\n",
    "\n",
    "def random_list(n, secure = True):\n",
    "    random_floats = []\n",
    "    if secure:\n",
    "        crypto = random.SystemRandom()\n",
    "        random_float = crypto.random()\n",
    "    else:\n",
    "        random_float = random.random()\n",
    "    for _ in range(n):\n",
    "        random_floats.append(random_float)\n",
    "    return random_floats\n",
    "\n",
    "print(random_list(10, secure = False))"
   ]
  },
  {
   "cell_type": "markdown",
   "id": "56b1bd70",
   "metadata": {},
   "source": [
    "*2. Using the random package of the numpy module.*"
   ]
  },
  {
   "cell_type": "code",
   "execution_count": 8,
   "id": "a3ac2a7a",
   "metadata": {},
   "outputs": [
    {
     "name": "stdout",
     "output_type": "stream",
     "text": [
      "[0.43643155 0.49606872 0.6276591  0.30965515 0.96143601 0.87360188\n",
      " 0.29577439 0.72982529 0.67729028 0.84130833]\n"
     ]
    }
   ],
   "source": [
    "print(np.random.random(10))"
   ]
  },
  {
   "cell_type": "markdown",
   "id": "7497d7b1",
   "metadata": {},
   "source": [
    "The fastest and most efficient way will be using the random package of the numpy module like shown up"
   ]
  },
  {
   "cell_type": "markdown",
   "id": "050a5580",
   "metadata": {},
   "source": [
    "**RANDOM NUMBERS SATISFYING SUM-TO-ONE CONDITION**"
   ]
  },
  {
   "cell_type": "code",
   "execution_count": 13,
   "id": "a7976441",
   "metadata": {},
   "outputs": [
    {
     "name": "stdout",
     "output_type": "stream",
     "text": [
      "49.348365149555754\n",
      "1.0\n"
     ]
    }
   ],
   "source": [
    "list_of_random_floats = np.random.random(100)\n",
    "sum_of_values = list_of_random_floats.sum()\n",
    "print(sum_of_values)\n",
    "\n",
    "normalized_values = list_of_random_floats / sum_of_values\n",
    "print(normalized_values.sum())"
   ]
  },
  {
   "cell_type": "markdown",
   "id": "3f44d375",
   "metadata": {},
   "source": [
    "**GENERATING RANDOM STRINGS OR PASSWORDS WITH PYTHON**"
   ]
  },
  {
   "cell_type": "code",
   "execution_count": null,
   "id": "8e0c688d",
   "metadata": {},
   "outputs": [],
   "source": []
  },
  {
   "cell_type": "markdown",
   "id": "aae64116",
   "metadata": {},
   "source": [
    "I will learn it after"
   ]
  },
  {
   "cell_type": "markdown",
   "id": "906e404b",
   "metadata": {},
   "source": [
    "**RANDOM INTEGER NUMBERS**\n",
    "\n",
    "*numpy.random.randint(low, high=None, size=None)*\n",
    "\n",
    "This function returns random integers from 'low' (inclusive) to 'high' (exclusive)"
   ]
  },
  {
   "cell_type": "code",
   "execution_count": 14,
   "id": "26316b48",
   "metadata": {},
   "outputs": [
    {
     "name": "stdout",
     "output_type": "stream",
     "text": [
      "5\n",
      "[3, 6, 5, 3, 5, 3, 2, 5, 2, 3]\n"
     ]
    }
   ],
   "source": [
    "import random\n",
    "\n",
    "outcome = random.randint(1,6)\n",
    "print(outcome)\n",
    "\n",
    "A = [random.randint(1, 6) for _ in range(10)]\n",
    "print(A)"
   ]
  },
  {
   "cell_type": "code",
   "execution_count": 16,
   "id": "9376a8f3",
   "metadata": {},
   "outputs": [
    {
     "name": "stdout",
     "output_type": "stream",
     "text": [
      "[4 4 4 5 5 6 2 3 4 1]\n"
     ]
    }
   ],
   "source": [
    "outcome = np.random.randint(1, 7, size=10)\n",
    "print(outcome)"
   ]
  },
  {
   "cell_type": "markdown",
   "id": "930d9bfd",
   "metadata": {},
   "source": [
    "numpy.random.randint(low, high=None, size=None)"
   ]
  },
  {
   "cell_type": "code",
   "execution_count": 18,
   "id": "57dc4990",
   "metadata": {},
   "outputs": [
    {
     "name": "stdout",
     "output_type": "stream",
     "text": [
      "5\n",
      "[3]\n",
      "[4 5 4 3 5 5 3 1 3 3]\n",
      "[3 3 4 3 3 5 4 1 5 6]\n",
      "[[1 2 5 3]\n",
      " [5 2 2 3]\n",
      " [2 1 6 3]\n",
      " [4 4 5 4]\n",
      " [6 6 6 3]]\n"
     ]
    }
   ],
   "source": [
    "print(np.random.randint(1, 7))\n",
    "print(np.random.randint(1, 7, size=1))\n",
    "print(np.random.randint(1, 7, size=10))\n",
    "print(np.random.randint(1, 7, size=(10,))) # the same as the \n",
    "                                           # previous one\n",
    "print(np.random.randint(1, 7, size=(5, 4)))"
   ]
  },
  {
   "cell_type": "markdown",
   "id": "67ab4009",
   "metadata": {},
   "source": [
    "**RANDOM CHOICES WITH PYTHON**"
   ]
  },
  {
   "cell_type": "code",
   "execution_count": 29,
   "id": "f65a4c7a",
   "metadata": {},
   "outputs": [
    {
     "name": "stdout",
     "output_type": "stream",
     "text": [
      "Berlin\n"
     ]
    }
   ],
   "source": [
    "from random import choice\n",
    "\n",
    "possible_destinations = [\"Berlin\", \"Hamburg\", \"Munich\",\n",
    "                         \"Amsterdam\", \"London\", \"Paris\",\n",
    "                         \"Zurich\", \"Heidelberg\", \"Strasbourg\",\n",
    "                         \"Augsburg\", \"Milan\", \"Rome\"]\n",
    "print(choice(possible_destinations))"
   ]
  },
  {
   "cell_type": "code",
   "execution_count": 30,
   "id": "1d7097e5",
   "metadata": {},
   "outputs": [
    {
     "name": "stdout",
     "output_type": "stream",
     "text": [
      "Paris\n",
      "['Augsburg' 'Milan' 'Munich']\n",
      "[['Amsterdam' 'Munich' 'Heidelberg' 'Hamburg']\n",
      " ['Amsterdam' 'Berlin' 'Zurich' 'Hamburg']\n",
      " ['Strasbourg' 'Strasbourg' 'Heidelberg' 'Augsburg']]\n"
     ]
    }
   ],
   "source": [
    "from numpy.random import choice\n",
    "\n",
    "print(choice(possible_destinations))\n",
    " \n",
    "x1 = choice(possible_destinations, size=3)\n",
    "print(x1)\n",
    "\n",
    "x2 = choice(possible_destinations, size=(3, 4))\n",
    "print(x2)"
   ]
  },
  {
   "cell_type": "code",
   "execution_count": 31,
   "id": "9489c3fd",
   "metadata": {},
   "outputs": [
    {
     "name": "stdout",
     "output_type": "stream",
     "text": [
      "[['Amsterdam' 'Zurich' 'Paris' 'Heidelberg']\n",
      " ['Strasbourg' 'Milan' 'Augsburg' 'Berlin']\n",
      " ['London' 'Rome' 'Munich' 'Hamburg']]\n"
     ]
    }
   ],
   "source": [
    "print(choice(possible_destinations, size=(3, 4), replace=False))"
   ]
  },
  {
   "cell_type": "markdown",
   "id": "878a5320",
   "metadata": {},
   "source": [
    "We can prevent multiples occurences by setting the\n",
    " optional parameter \"replace\" to \"False\""
   ]
  },
  {
   "cell_type": "markdown",
   "id": "ea7259d9",
   "metadata": {},
   "source": [
    "**RANDOM SAMPLES WITH PYTHON**\n",
    "\n",
    "The module numpy.random contains a function random_sample, which returns random floats in the half open\n",
    " interval [0.0, 1.0)"
   ]
  },
  {
   "cell_type": "code",
   "execution_count": 34,
   "id": "cd16fa0f",
   "metadata": {},
   "outputs": [
    {
     "name": "stdout",
     "output_type": "stream",
     "text": [
      "[[0.37620859 0.13594931 0.04766134 0.7537209 ]\n",
      " [0.23459178 0.45778455 0.32544858 0.07289158]\n",
      " [0.40852604 0.03121217 0.9839056  0.77751493]]\n"
     ]
    }
   ],
   "source": [
    "x = np.random.random_sample((3,4))\n",
    "print(x)"
   ]
  },
  {
   "cell_type": "code",
   "execution_count": 37,
   "id": "20d8e1f5",
   "metadata": {},
   "outputs": [
    {
     "name": "stdout",
     "output_type": "stream",
     "text": [
      "[0.64225507 0.0531061  0.66519788]\n"
     ]
    }
   ],
   "source": [
    "from numpy.random import random_sample\n",
    "\n",
    "x = random_sample((3,))\n",
    "print(x)"
   ]
  },
  {
   "cell_type": "code",
   "execution_count": 39,
   "id": "8e42421b",
   "metadata": {},
   "outputs": [
    {
     "name": "stdout",
     "output_type": "stream",
     "text": [
      "[[-2.47753993  1.02269584  4.62562787]\n",
      " [ 0.90079747 -2.87651911  5.03199063]]\n"
     ]
    }
   ],
   "source": [
    "a =-3.4\n",
    "b = 5.9\n",
    " \n",
    "A = (b - a) * np.random.random_sample((2,3)) + a\n",
    "print(A)"
   ]
  },
  {
   "cell_type": "markdown",
   "id": "d482795f",
   "metadata": {},
   "source": [
    "You can also generate arrays with values from an arbitrary interval [a, b), where a has to be less than b. It can be done like shown up."
   ]
  },
  {
   "cell_type": "markdown",
   "id": "dcb19cee",
   "metadata": {},
   "source": [
    "*The standard module random of Python has a more general function \"sample\", which produces samples from a\n",
    " population*\n",
    " \n",
    "The syntax of sample:\n",
    " *sample(population, k)*"
   ]
  },
  {
   "cell_type": "code",
   "execution_count": 40,
   "id": "0130147b",
   "metadata": {},
   "outputs": [
    {
     "name": "stdout",
     "output_type": "stream",
     "text": [
      "[35, 28, 1, 9, 21, 46]\n"
     ]
    }
   ],
   "source": [
    "#We want to choose a sample within a range of integers, you can - or better you should - use range as the argument for the population.\n",
    "import random\n",
    "\n",
    "print(random.sample(range(1, 50), 6))"
   ]
  },
  {
   "cell_type": "markdown",
   "id": "1759b21a",
   "metadata": {},
   "source": [
    "**II. WEIGHTED PROBABILITIES**"
   ]
  },
  {
   "cell_type": "markdown",
   "id": "9dc1f355",
   "metadata": {},
   "source": [
    "*1. WEIGHTED RANDOM CHOICES*"
   ]
  },
  {
   "cell_type": "code",
   "execution_count": 41,
   "id": "b63ed49f",
   "metadata": {},
   "outputs": [],
   "source": [
    "import numpy as np"
   ]
  },
  {
   "cell_type": "code",
   "execution_count": 42,
   "id": "15c7d418",
   "metadata": {},
   "outputs": [],
   "source": [
    "import random\n",
    "from random import random\n",
    " \n",
    "def weighted_choice(objects, weights):\n",
    "    weights = np.array(weights, dtype=np.float64)\n",
    "    sum_of_weights = weights.sum()\n",
    "    # standardization:\n",
    "    np.multiply(weights, 1 / sum_of_weights, weights)\n",
    "    weights = weights.cumsum()\n",
    "    x = random()\n",
    "    for i in range(len(weights)):\n",
    "        if x < weights[i]:\n",
    "            return objects[i]"
   ]
  },
  {
   "cell_type": "code",
   "execution_count": 44,
   "id": "96c7c9cf",
   "metadata": {},
   "outputs": [
    {
     "name": "stdout",
     "output_type": "stream",
     "text": [
      "Counter({6: 2424, 2: 1714, 3: 1686, 5: 1677, 4: 1670, 1: 829})\n",
      "[0.0829, 0.167, 0.1677, 0.1686, 0.1714, 0.2424] 1.0\n"
     ]
    }
   ],
   "source": [
    "from collections import Counter\n",
    "\n",
    "faces_of_die = [1, 2, 3, 4, 5, 6]\n",
    "weights = [1/12, 1/6, 1/6, 1/6, 1/6, 3/12]\n",
    "outcomes = []\n",
    "n = 10000\n",
    " \n",
    "for _ in range(n):\n",
    "    outcomes.append(weighted_choice(faces_of_die, weights))\n",
    "c = Counter(outcomes)\n",
    "print(c)\n",
    "for key in c:\n",
    "    c[key] = c[key] / n\n",
    "\n",
    "print(sorted(c.values()), sum(c.values()))"
   ]
  },
  {
   "cell_type": "markdown",
   "id": "750087d7",
   "metadata": {},
   "source": [
    "We define a list of cities and a list with their corresponding populations. The probability of a city to be chosen should be according to their size:"
   ]
  },
  {
   "cell_type": "code",
   "execution_count": 48,
   "id": "52534413",
   "metadata": {},
   "outputs": [
    {
     "name": "stdout",
     "output_type": "stream",
     "text": [
      "[0.14, 0.12, 0.04, 0.27, 0.08, 0.35]\n",
      "Hamburg\n",
      "Frankfurt\n",
      "München\n",
      "Zürich\n",
      "Stuttgart\n",
      "Hamburg\n",
      "München\n",
      "Hamburg\n",
      "München\n",
      "Stuttgart\n"
     ]
    }
   ],
   "source": [
    "cities = [\"Frankfurt\", \"Stuttgart\", \"Freiburg\", \"München\", \"Zürich\", \"Hamburg\"]\n",
    "populations = [736000, 628000, 228000, 1450000, 409241, 1841179]\n",
    "total = sum(populations)\n",
    "weights = [ round(pop / total, 2) for pop in populations]\n",
    "print(weights)\n",
    " \n",
    "for i in range(10):\n",
    "    print(weighted_choice(cities, populations))"
   ]
  },
  {
   "cell_type": "markdown",
   "id": "45555033",
   "metadata": {},
   "source": [
    "*WEIGHTED SAMPLE*"
   ]
  },
  {
   "cell_type": "code",
   "execution_count": 52,
   "id": "40ed8971",
   "metadata": {},
   "outputs": [],
   "source": [
    "def weighted_sample(population, weights, k):\n",
    "    \"\"\"\n",
    "    This function draws a random sample (without repeats)\n",
    "    of length k     from the sequence 'population' according\n",
    "    to the list of weights\n",
    "    \"\"\"\n",
    "    sample = set()\n",
    "    population = list(population)\n",
    "    weights = list(weights)\n",
    "    while len(sample) < k:\n",
    "        choice = weighted_choice(population, weights)\n",
    "        sample.add(choice)\n",
    "        index = population.index(choice)\n",
    "        weights.pop(index)\n",
    "        population.remove(choice)\n",
    "        weights = [ x / sum(weights) for x in weights]\n",
    "    return list(sample)"
   ]
  },
  {
   "cell_type": "code",
   "execution_count": 53,
   "id": "bf377cb3",
   "metadata": {},
   "outputs": [
    {
     "name": "stdout",
     "output_type": "stream",
     "text": [
      "['black', 'blue', 'orange']\n",
      "['black', 'green', 'orange']\n",
      "['green', 'blue', 'orange']\n",
      "['green', 'blue', 'red']\n",
      "['green', 'orange', 'red']\n",
      "['green', 'orange', 'red']\n",
      "['pink', 'yellow', 'red']\n",
      "['pink', 'blue', 'orange']\n",
      "['black', 'green', 'blue']\n",
      "['black', 'green', 'pink']\n"
     ]
    }
   ],
   "source": [
    "candies = [\"red\", \"green\", \"blue\", \"yellow\", \"black\", \"white\", \"pink\", \"orange\"]\n",
    "weights = [ 1/24, 1/6, 1/6, 1/12, 1/12, 1/24, 1/8, 7/24]\n",
    "for i in range(10):\n",
    "    print(weighted_sample(candies, weights, 3))"
   ]
  },
  {
   "cell_type": "markdown",
   "id": "edf105c5",
   "metadata": {},
   "source": [
    "*2. WEIGHTED RANDOM CHOICE WITH NUMPY*\n",
    "\n",
    "choice(a, size=None, replace=True, p=None)"
   ]
  },
  {
   "cell_type": "code",
   "execution_count": 49,
   "id": "8761c5b0",
   "metadata": {},
   "outputs": [
    {
     "data": {
      "text/plain": [
       "'programmer'"
      ]
     },
     "execution_count": 49,
     "metadata": {},
     "output_type": "execute_result"
    }
   ],
   "source": [
    "from numpy.random import choice\n",
    "\n",
    "professions = [\"scientist\", \"philosopher\", \"engineer\", \"priest\", \"programmer\"]\n",
    "\n",
    "probabilities = [0.2, 0.05, 0.3, 0.15, 0.3]\n",
    "\n",
    "choice(professions, p=probabilities)"
   ]
  },
  {
   "cell_type": "code",
   "execution_count": 50,
   "id": "00904f21",
   "metadata": {},
   "outputs": [
    {
     "data": {
      "text/plain": [
       "array(['engineer', 'scientist'], dtype='<U11')"
      ]
     },
     "execution_count": 50,
     "metadata": {},
     "output_type": "execute_result"
    }
   ],
   "source": [
    "choice(professions, size = 2, p = probabilities)"
   ]
  },
  {
   "cell_type": "code",
   "execution_count": 51,
   "id": "59fd88a8",
   "metadata": {},
   "outputs": [
    {
     "name": "stdout",
     "output_type": "stream",
     "text": [
      "[0.33826638 0.32135307 0.21141649 0.12896406]\n",
      "Java\n",
      "Python\n",
      "C\n",
      "Java\n",
      "Java\n",
      "C\n",
      "C\n",
      "Python\n",
      "Java\n",
      "C\n"
     ]
    }
   ],
   "source": [
    "programming_languages = [\"Java\", \"C\", \"Python\", \"C++\"]\n",
    "weights = np.array([16, 15.2, 10, 6.1])\n",
    " \n",
    "# normalization\n",
    "weights /= sum(weights)\n",
    "print(weights)\n",
    "for i in range(10):\n",
    "    print(choice(programming_languages, p=weights))"
   ]
  },
  {
   "cell_type": "markdown",
   "id": "8be33fd3",
   "metadata": {},
   "source": [
    "*Let us redo the previous example by substituting weighted_sampe with a call of np.random.choice:*"
   ]
  },
  {
   "cell_type": "code",
   "execution_count": 55,
   "id": "bf745262",
   "metadata": {},
   "outputs": [
    {
     "name": "stdout",
     "output_type": "stream",
     "text": [
      "['blue' 'orange' 'orange']\n",
      "['orange' 'blue' 'blue']\n",
      "['orange' 'red' 'orange']\n",
      "['blue' 'black' 'pink']\n"
     ]
    }
   ],
   "source": [
    "candies = [\"red\", \"green\", \"blue\", \"yellow\", \"black\", \"white\", \"pink\", \"orange\"]\n",
    "weights = [ 1/24, 1/6, 1/6, 1/12, 1/12, 1/24, 1/8, 7/24]\n",
    "\n",
    "for i in range (4):\n",
    "    print(choice(candies, p = weights, size=3))"
   ]
  },
  {
   "cell_type": "code",
   "execution_count": 56,
   "id": "377c0a20",
   "metadata": {},
   "outputs": [
    {
     "name": "stdout",
     "output_type": "stream",
     "text": [
      "['yellow' 'blue' 'orange']\n",
      "['yellow' 'orange' 'black']\n",
      "['pink' 'orange' 'green']\n",
      "['green' 'yellow' 'black']\n"
     ]
    }
   ],
   "source": [
    "candies = [\"red\", \"green\", \"blue\", \"yellow\", \"black\", \"white\", \"pink\", \"orange\"]\n",
    "weights = [ 1/24, 1/6, 1/6, 1/12, 1/12, 1/24, 1/8, 7/24]\n",
    "\n",
    "for i in range (4):\n",
    "    print(choice(candies, p = weights, size=3, replace = False))"
   ]
  },
  {
   "cell_type": "code",
   "execution_count": null,
   "id": "a46b4fa8",
   "metadata": {},
   "outputs": [],
   "source": []
  }
 ],
 "metadata": {
  "kernelspec": {
   "display_name": "Python 3 (ipykernel)",
   "language": "python",
   "name": "python3"
  },
  "language_info": {
   "codemirror_mode": {
    "name": "ipython",
    "version": 3
   },
   "file_extension": ".py",
   "mimetype": "text/x-python",
   "name": "python",
   "nbconvert_exporter": "python",
   "pygments_lexer": "ipython3",
   "version": "3.11.5"
  }
 },
 "nbformat": 4,
 "nbformat_minor": 5
}
