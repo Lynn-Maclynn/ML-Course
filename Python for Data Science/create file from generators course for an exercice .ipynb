{
 "cells": [
  {
   "cell_type": "code",
   "execution_count": 3,
   "id": "ae64a078",
   "metadata": {},
   "outputs": [
    {
     "name": "stdout",
     "output_type": "stream",
     "text": [
      "Writing timerange.py\n"
     ]
    }
   ],
   "source": [
    "%%writefile timerange.py       #This instrustion create a python file in jupyter\n",
    "\n",
    "\n",
    "def trange(start, stop, step):\n",
    "    \"\"\" \n",
    "    trange(stop) -> time as a 3-tuple (hours, minutes, seconds)\n",
    "    trange(start, stop[, step]) -> time tuple\n",
    "\n",
    "    start: time tuple (hours, minutes, seconds)\n",
    "    stop: time tuple\n",
    "    step: time tuple\n",
    "\n",
    "    returns a sequence of time tuples from start to stop incremented by step\n",
    "    \"\"\"        \n",
    "\n",
    "    current = list(start)\n",
    "    while current < list(stop):\n",
    "        yield tuple(current)\n",
    "        seconds = step[2] + current[2]\n",
    "        min_borrow = 0\n",
    "        hours_borrow = 0\n",
    "        if seconds < 60:\n",
    "            current[2] = seconds\n",
    "        else:\n",
    "            current[2] = seconds - 60\n",
    "            min_borrow = 1\n",
    "        minutes = step[1] + current[1] + min_borrow\n",
    "        if minutes < 60:\n",
    "            current[1] = minutes \n",
    "        else:\n",
    "            current[1] = minutes - 60\n",
    "            hours_borrow = 1\n",
    "        hours = step[0] + current[0] + hours_borrow\n",
    "        if hours < 24:\n",
    "            current[0] = hours \n",
    "        else:\n",
    "            current[0] = hours - 24"
   ]
  },
  {
   "cell_type": "code",
   "execution_count": 4,
   "id": "c809d565",
   "metadata": {},
   "outputs": [
    {
     "name": "stdout",
     "output_type": "stream",
     "text": [
      "(10, 10, 10)\n",
      "(11, 34, 22)\n",
      "(12, 58, 34)\n",
      "(14, 22, 46)\n",
      "(15, 46, 58)\n",
      "(17, 11, 10)\n",
      "(18, 35, 22)\n"
     ]
    }
   ],
   "source": [
    "from timerange import trange\n",
    "\n",
    "for time in trange((10, 10, 10), (19, 53, 15), (1, 24, 12) ):\n",
    "    print(time)"
   ]
  },
  {
   "cell_type": "markdown",
   "id": "5f08e6d5",
   "metadata": {},
   "source": [
    "pas besoin de lancer le code ci-dessous. Le fichier a déja été crée."
   ]
  },
  {
   "cell_type": "code",
   "execution_count": 6,
   "id": "cbfbd35e",
   "metadata": {},
   "outputs": [],
   "source": [
    "from timerange import trange\n",
    "import random\n",
    "\n",
    "fh = open(\"times_and_temperatures.txt\", \"w\")\n",
    "\n",
    "for time in trange((6, 0, 0), (23, 0, 0), (0, 1, 30) ):\n",
    "    random_number = random.randint(100, 250) / 10\n",
    "    lst = time + (random_number,)\n",
    "    output = \"{:02d}:{:02d}:{:02d} {:4.1f}\\n\".format(*lst)\n",
    "    fh.write(output)"
   ]
  },
  {
   "cell_type": "code",
   "execution_count": null,
   "id": "7c6688f0",
   "metadata": {},
   "outputs": [],
   "source": []
  }
 ],
 "metadata": {
  "kernelspec": {
   "display_name": "Python 3 (ipykernel)",
   "language": "python",
   "name": "python3"
  },
  "language_info": {
   "codemirror_mode": {
    "name": "ipython",
    "version": 3
   },
   "file_extension": ".py",
   "mimetype": "text/x-python",
   "name": "python",
   "nbconvert_exporter": "python",
   "pygments_lexer": "ipython3",
   "version": "3.11.5"
  }
 },
 "nbformat": 4,
 "nbformat_minor": 5
}
