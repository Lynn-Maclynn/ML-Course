{
 "cells": [
  {
   "cell_type": "markdown",
   "id": "c2558645",
   "metadata": {},
   "source": [
    "**SCALAR PRODUCT / DOT PRODUCT**"
   ]
  },
  {
   "cell_type": "code",
   "execution_count": 2,
   "id": "45ee2dd3",
   "metadata": {},
   "outputs": [],
   "source": [
    "import numpy as np"
   ]
  },
  {
   "cell_type": "code",
   "execution_count": 3,
   "id": "58adb179",
   "metadata": {},
   "outputs": [
    {
     "data": {
      "text/plain": [
       "36"
      ]
     },
     "execution_count": 3,
     "metadata": {},
     "output_type": "execute_result"
    }
   ],
   "source": [
    "x = np.array([1, 2, 3])\n",
    "y = np.array([-7, 8, 9])\n",
    "np.dot(x, y)"
   ]
  },
  {
   "cell_type": "code",
   "execution_count": 4,
   "id": "927d2e0f",
   "metadata": {},
   "outputs": [
    {
     "data": {
      "text/plain": [
       "0.808233789010825"
      ]
     },
     "execution_count": 4,
     "metadata": {},
     "output_type": "execute_result"
    }
   ],
   "source": [
    "dot = np.dot(x ,y)\n",
    "x_modulus = np.sqrt((x*x).sum())\n",
    "y_modulus = np.sqrt((y*y).sum())\n",
    "cos_angle = dot / x_modulus / y_modulus # cosine of angle between x and y\n",
    "angle = np.arccos(cos_angle)\n",
    "angle"
   ]
  },
  {
   "cell_type": "code",
   "execution_count": 5,
   "id": "356d07c8",
   "metadata": {},
   "outputs": [
    {
     "data": {
      "text/plain": [
       "46.308384970187326"
      ]
     },
     "execution_count": 5,
     "metadata": {},
     "output_type": "execute_result"
    }
   ],
   "source": [
    "angle * 360 / 2 / np.pi # angle in degrees"
   ]
  },
  {
   "cell_type": "markdown",
   "id": "eb455958",
   "metadata": {},
   "source": [
    "**MATRIX PRODUCT**"
   ]
  },
  {
   "cell_type": "code",
   "execution_count": 8,
   "id": "e2bd2a28",
   "metadata": {},
   "outputs": [
    {
     "data": {
      "text/plain": [
       "array([13.984, 11.907,  9.9  ,  9.745])"
      ]
     },
     "execution_count": 8,
     "metadata": {},
     "output_type": "execute_result"
    }
   ],
   "source": [
    "NumPersons = np.array([[100, 175, 210],\n",
    "                        [90, 160, 150],\n",
    "                        [200, 50, 100],\n",
    "                        [120, 0, 310]])\n",
    "Price_per_100_g = np.array([2.98, 3.90, 1.99])\n",
    "Price_in_Cent = np.dot(NumPersons,Price_per_100_g)\n",
    "Price_in_Euro = Price_in_Cent / 100\n",
    "Price_in_Euro"
   ]
  },
  {
   "cell_type": "markdown",
   "id": "a35f3734",
   "metadata": {},
   "source": [
    "**CROSS PRODUCT**\n",
    "\n",
    "The cross product of two vectors a and b is denoted by a × b"
   ]
  },
  {
   "cell_type": "code",
   "execution_count": 9,
   "id": "a8a103b8",
   "metadata": {},
   "outputs": [
    {
     "data": {
      "text/plain": [
       "array([-1,  0,  0])"
      ]
     },
     "execution_count": 9,
     "metadata": {},
     "output_type": "execute_result"
    }
   ],
   "source": [
    "x = np.array([0, 0, 1])\n",
    "y = np.array([0, 1, 0])\n",
    "\n",
    "np.cross(x, y)"
   ]
  },
  {
   "cell_type": "code",
   "execution_count": 10,
   "id": "ee2d3b4c",
   "metadata": {},
   "outputs": [
    {
     "data": {
      "text/plain": [
       "array([1, 0, 0])"
      ]
     },
     "execution_count": 10,
     "metadata": {},
     "output_type": "execute_result"
    }
   ],
   "source": [
    "np.cross(y, x)"
   ]
  },
  {
   "cell_type": "code",
   "execution_count": null,
   "id": "1ca575ed",
   "metadata": {},
   "outputs": [],
   "source": []
  }
 ],
 "metadata": {
  "kernelspec": {
   "display_name": "Python 3 (ipykernel)",
   "language": "python",
   "name": "python3"
  },
  "language_info": {
   "codemirror_mode": {
    "name": "ipython",
    "version": 3
   },
   "file_extension": ".py",
   "mimetype": "text/x-python",
   "name": "python",
   "nbconvert_exporter": "python",
   "pygments_lexer": "ipython3",
   "version": "3.11.5"
  }
 },
 "nbformat": 4,
 "nbformat_minor": 5
}
