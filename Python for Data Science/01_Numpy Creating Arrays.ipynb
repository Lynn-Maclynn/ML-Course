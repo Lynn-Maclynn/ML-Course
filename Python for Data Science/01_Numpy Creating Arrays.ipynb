{
 "cells": [
  {
   "cell_type": "markdown",
   "id": "ddb784fb",
   "metadata": {},
   "source": [
    "**NUMPY means NUMerical PYthon**"
   ]
  },
  {
   "cell_type": "code",
   "execution_count": 1,
   "id": "260ee5fa",
   "metadata": {},
   "outputs": [],
   "source": [
    "import numpy as np"
   ]
  },
  {
   "cell_type": "code",
   "execution_count": 2,
   "id": "7e7a180e",
   "metadata": {},
   "outputs": [
    {
     "data": {
      "text/plain": [
       "[25, 27, 20, 21, 29, 23, 26, 24, 22, 28]"
      ]
     },
     "execution_count": 2,
     "metadata": {},
     "output_type": "execute_result"
    }
   ],
   "source": [
    "import random\n",
    "C = random.sample(range(20,30),10)\n",
    "C"
   ]
  },
  {
   "cell_type": "code",
   "execution_count": 3,
   "id": "393c4908",
   "metadata": {},
   "outputs": [
    {
     "data": {
      "text/plain": [
       "list"
      ]
     },
     "execution_count": 3,
     "metadata": {},
     "output_type": "execute_result"
    }
   ],
   "source": [
    "type(C)"
   ]
  },
  {
   "cell_type": "code",
   "execution_count": 4,
   "id": "3b8c2e21",
   "metadata": {},
   "outputs": [
    {
     "name": "stdout",
     "output_type": "stream",
     "text": [
      "[25 27 20 21 29 23 26 24 22 28]\n"
     ]
    },
    {
     "data": {
      "text/plain": [
       "(10,)"
      ]
     },
     "execution_count": 4,
     "metadata": {},
     "output_type": "execute_result"
    }
   ],
   "source": [
    "C = np.array(C)\n",
    "print(C)\n",
    "C.shape"
   ]
  },
  {
   "cell_type": "markdown",
   "id": "fade35f5",
   "metadata": {},
   "source": [
    "C is a one-dimensional numpy array as his shape shows it"
   ]
  },
  {
   "cell_type": "code",
   "execution_count": 5,
   "id": "9fe92222",
   "metadata": {},
   "outputs": [
    {
     "name": "stdout",
     "output_type": "stream",
     "text": [
      "[77.  80.6 68.  69.8 84.2 73.4 78.8 75.2 71.6 82.4]\n"
     ]
    }
   ],
   "source": [
    "print(C*9/5 + 32)"
   ]
  },
  {
   "cell_type": "code",
   "execution_count": 6,
   "id": "388fe931",
   "metadata": {},
   "outputs": [
    {
     "name": "stdout",
     "output_type": "stream",
     "text": [
      "[25 27 20 21 29 23 26 24 22 28]\n"
     ]
    }
   ],
   "source": [
    "print(C)"
   ]
  },
  {
   "cell_type": "markdown",
   "id": "6ef9c4d2",
   "metadata": {},
   "source": [
    "The values of the array C have not change"
   ]
  },
  {
   "cell_type": "code",
   "execution_count": 7,
   "id": "6883f5fd",
   "metadata": {},
   "outputs": [
    {
     "name": "stdout",
     "output_type": "stream",
     "text": [
      "[77.0, 80.6, 68.0, 69.8, 84.2, 73.4, 78.8, 75.2, 71.6, 82.4]\n"
     ]
    }
   ],
   "source": [
    "F = [x*9/5+32 for x in C]\n",
    "print(F)"
   ]
  },
  {
   "cell_type": "code",
   "execution_count": 8,
   "id": "6b24e0bb",
   "metadata": {},
   "outputs": [
    {
     "data": {
      "image/png": "[encoded data removed]",
      "text/plain": [
       "<Figure size 640x480 with 1 Axes>"
      ]
     },
     "metadata": {},
     "output_type": "display_data"
    }
   ],
   "source": [
    "import matplotlib.pyplot as plt\n",
    "\n",
    "plt.plot(C)\n",
    "plt.show()"
   ]
  },
  {
   "cell_type": "markdown",
   "id": "bc74b921",
   "metadata": {},
   "source": [
    "The function plot uses the values of the array C for the values of the ordinate, i.e. the y-axis. The indices of the\n",
    " array C are taken as values for the abscissa, i.e. the x-axis."
   ]
  },
  {
   "cell_type": "code",
   "execution_count": 9,
   "id": "84bd9b72",
   "metadata": {},
   "outputs": [
    {
     "data": {
      "text/plain": [
       "[1, 7, 3, 6, 5]"
      ]
     },
     "execution_count": 9,
     "metadata": {},
     "output_type": "execute_result"
    }
   ],
   "source": [
    "import random\n",
    "D = random.sample(range(10),5)\n",
    "D"
   ]
  },
  {
   "cell_type": "code",
   "execution_count": 10,
   "id": "63e019ad",
   "metadata": {},
   "outputs": [
    {
     "data": {
      "text/plain": [
       "(1, 7, 3, 6, 5)"
      ]
     },
     "execution_count": 10,
     "metadata": {},
     "output_type": "execute_result"
    }
   ],
   "source": [
    "D = tuple(D)\n",
    "D"
   ]
  },
  {
   "cell_type": "code",
   "execution_count": 11,
   "id": "89f2195b",
   "metadata": {},
   "outputs": [
    {
     "data": {
      "text/plain": [
       "array([1, 7, 3, 6, 5])"
      ]
     },
     "execution_count": 11,
     "metadata": {},
     "output_type": "execute_result"
    }
   ],
   "source": [
    "D = np.array(D)\n",
    "D"
   ]
  },
  {
   "cell_type": "markdown",
   "id": "ada41ea3",
   "metadata": {},
   "source": [
    " we can create Numpy arrays from lists and tuples."
   ]
  },
  {
   "cell_type": "markdown",
   "id": "b2f56ddb",
   "metadata": {},
   "source": [
    "**CREATING ARRAYS WITH NUMPY**"
   ]
  },
  {
   "cell_type": "markdown",
   "id": "644eb28c",
   "metadata": {},
   "source": [
    "1. ARANGE\n",
    "\n",
    "*arange([start,] stop[, step], [, dtype=None])*"
   ]
  },
  {
   "cell_type": "code",
   "execution_count": 12,
   "id": "222ee8c1",
   "metadata": {},
   "outputs": [
    {
     "name": "stdout",
     "output_type": "stream",
     "text": [
      "[15 16 17 18 19 20 21 22 23 24]\n"
     ]
    }
   ],
   "source": [
    "a = np.arange(15,25)\n",
    "print(a)"
   ]
  },
  {
   "cell_type": "markdown",
   "id": "53bbcf95",
   "metadata": {},
   "source": [
    "The spacing between two adjacent values of the output array is set with the optional\n",
    " parameter 'step'. The default value for 'step' is **1**"
   ]
  },
  {
   "cell_type": "code",
   "execution_count": 13,
   "id": "ab3eb160",
   "metadata": {},
   "outputs": [
    {
     "name": "stdout",
     "output_type": "stream",
     "text": [
      "[ 0  1  2  3  4  5  6  7  8  9 10 11 12 13 14 15 16 17 18 19 20 21 22 23\n",
      " 24]\n"
     ]
    }
   ],
   "source": [
    "a = np.arange(25)\n",
    "print(a)"
   ]
  },
  {
   "cell_type": "markdown",
   "id": "9af96891",
   "metadata": {},
   "source": [
    " If the 'start' parameter is not given,\n",
    " it will be set to **0**.  \n",
    " \n",
    "The end of the interval is determined by the parameter 'stop'. Usually, the interval will not include this value."
   ]
  },
  {
   "cell_type": "code",
   "execution_count": 14,
   "id": "2db69255",
   "metadata": {},
   "outputs": [
    {
     "name": "stdout",
     "output_type": "stream",
     "text": [
      "[15 17 19 21 23]\n"
     ]
    }
   ],
   "source": [
    "a = np.arange(15,25,2)\n",
    "print(a)"
   ]
  },
  {
   "cell_type": "markdown",
   "id": "73583b35",
   "metadata": {},
   "source": [
    " The end of the interval is determined by the parameter 'stop'. **Usually, the interval will not\n",
    " include this value.**"
   ]
  },
  {
   "cell_type": "code",
   "execution_count": 15,
   "id": "b265d102",
   "metadata": {},
   "outputs": [
    {
     "name": "stdout",
     "output_type": "stream",
     "text": [
      "[1 2 3 4 5 6 7 8 9]\n",
      "range(1, 10)\n",
      "Transform a in a list : [1, 2, 3, 4, 5, 6, 7, 8, 9]\n"
     ]
    }
   ],
   "source": [
    "x = np.arange(1,10)\n",
    "print(x)\n",
    "\n",
    "a = range(1, 10)  \n",
    "print(a)    #a is an iterator\n",
    "print('Transform a in a list :', list(a))"
   ]
  },
  {
   "cell_type": "code",
   "execution_count": 16,
   "id": "ad2bb484",
   "metadata": {},
   "outputs": [
    {
     "name": "stdout",
     "output_type": "stream",
     "text": [
      "[1.  1.2 1.4 1.6 1.8 2.  2.2 2.4]\n"
     ]
    }
   ],
   "source": [
    "x = np.arange(1., 2.5, .2, float)\n",
    "print(x)"
   ]
  },
  {
   "cell_type": "markdown",
   "id": "7f618e64",
   "metadata": {},
   "source": [
    "2. LINSPACE\n",
    "\n",
    "*linspace(start, stop, num=50, endpoint=True, retstep=False)*"
   ]
  },
  {
   "cell_type": "code",
   "execution_count": 17,
   "id": "fdda6896",
   "metadata": {},
   "outputs": [
    {
     "name": "stdout",
     "output_type": "stream",
     "text": [
      "[ 1.          1.18367347  1.36734694  1.55102041  1.73469388  1.91836735\n",
      "  2.10204082  2.28571429  2.46938776  2.65306122  2.83673469  3.02040816\n",
      "  3.20408163  3.3877551   3.57142857  3.75510204  3.93877551  4.12244898\n",
      "  4.30612245  4.48979592  4.67346939  4.85714286  5.04081633  5.2244898\n",
      "  5.40816327  5.59183673  5.7755102   5.95918367  6.14285714  6.32653061\n",
      "  6.51020408  6.69387755  6.87755102  7.06122449  7.24489796  7.42857143\n",
      "  7.6122449   7.79591837  7.97959184  8.16326531  8.34693878  8.53061224\n",
      "  8.71428571  8.89795918  9.08163265  9.26530612  9.44897959  9.63265306\n",
      "  9.81632653 10.        ]\n"
     ]
    }
   ],
   "source": [
    "print(np.linspace(1,10))"
   ]
  },
  {
   "cell_type": "markdown",
   "id": "96aa7b88",
   "metadata": {},
   "source": [
    " The number of samples to be generated can be set\n",
    " with 'num', which defaults to **50**."
   ]
  },
  {
   "cell_type": "code",
   "execution_count": 18,
   "id": "8b80454a",
   "metadata": {},
   "outputs": [
    {
     "name": "stdout",
     "output_type": "stream",
     "text": [
      "[ 1.   2.5  4.   5.5  7.   8.5 10. ]\n"
     ]
    }
   ],
   "source": [
    "print(np.linspace(1,10,7))"
   ]
  },
  {
   "cell_type": "markdown",
   "id": "211f29d8",
   "metadata": {},
   "source": [
    "Here *num = 7*\n",
    "\n",
    "\n",
    "the optional parameter 'endpoint' is set to True (the default), 'stop' is the last sample of the sequence. "
   ]
  },
  {
   "cell_type": "code",
   "execution_count": 19,
   "id": "ad0416ca",
   "metadata": {},
   "outputs": [
    {
     "name": "stdout",
     "output_type": "stream",
     "text": [
      "[1.         2.28571429 3.57142857 4.85714286 6.14285714 7.42857143\n",
      " 8.71428571]\n"
     ]
    }
   ],
   "source": [
    "print(np.linspace(1,10,7, endpoint = False))"
   ]
  },
  {
   "cell_type": "markdown",
   "id": "9528c93d",
   "metadata": {},
   "source": [
    "'stop' will the end value of the sequence, unless 'endpoint' is set to **False** like in this case"
   ]
  },
  {
   "cell_type": "code",
   "execution_count": 20,
   "id": "ae6fed03",
   "metadata": {},
   "outputs": [
    {
     "name": "stdout",
     "output_type": "stream",
     "text": [
      "1.5\n"
     ]
    }
   ],
   "source": [
    "samples, spacing = np.linspace(1,10,7, retstep = True)\n",
    "print(spacing)"
   ]
  },
  {
   "cell_type": "code",
   "execution_count": 21,
   "id": "6d743711",
   "metadata": {},
   "outputs": [
    {
     "name": "stdout",
     "output_type": "stream",
     "text": [
      "1.2857142857142858\n"
     ]
    }
   ],
   "source": [
    "samples, spacing = np.linspace(1,10,7, endpoint = False, retstep = True)\n",
    "print(spacing)"
   ]
  },
  {
   "cell_type": "markdown",
   "id": "f300408c",
   "metadata": {},
   "source": [
    "the optional parameter 'retstep' is set, the function returns the value of the spacing between adjacent values"
   ]
  },
  {
   "cell_type": "markdown",
   "id": "07e8a74a",
   "metadata": {},
   "source": [
    "3. ZERO-DIMENSIONAL ARRAYS\n",
    "\n",
    "*Scalars are zero dimensional*"
   ]
  },
  {
   "cell_type": "code",
   "execution_count": 22,
   "id": "7675467c",
   "metadata": {},
   "outputs": [
    {
     "name": "stdout",
     "output_type": "stream",
     "text": [
      "x =  42\n",
      "Dimension of x is  0\n"
     ]
    }
   ],
   "source": [
    "x = np.array(42)\n",
    "print('x = ', x)\n",
    "print('Dimension of x is ', x.ndim)"
   ]
  },
  {
   "cell_type": "markdown",
   "id": "af4b9545",
   "metadata": {},
   "source": [
    "4. ONE-DIMENSIONAL ARRAYS\n",
    "\n",
    "*Vectors are one-dimensionals arrays*"
   ]
  },
  {
   "cell_type": "code",
   "execution_count": 23,
   "id": "80558752",
   "metadata": {},
   "outputs": [
    {
     "name": "stdout",
     "output_type": "stream",
     "text": [
      "[ 0  2  6 12 20]\n",
      "Dimension of y is  1\n",
      "Type of array : int32\n"
     ]
    }
   ],
   "source": [
    "y = np.array([i+i**2 for i in range(5)])\n",
    "print(y)\n",
    "print('Dimension of y is ', y.ndim)\n",
    "print('Type of array :', y.dtype)"
   ]
  },
  {
   "cell_type": "markdown",
   "id": "e8e2ac5c",
   "metadata": {},
   "source": [
    "5. TWO-DIMENSIONAL AND MULTIDIMENSIONAL ARRAYS"
   ]
  },
  {
   "cell_type": "code",
   "execution_count": 24,
   "id": "7a03735e",
   "metadata": {},
   "outputs": [
    {
     "name": "stdout",
     "output_type": "stream",
     "text": [
      "[[1 2 3]\n",
      " [4 5 6]\n",
      " [7 8 9]]\n",
      "2\n"
     ]
    }
   ],
   "source": [
    "A = np.array([[1, 2, 3], [4,5,6],[7,8,9]])\n",
    "print(A)\n",
    "print(A.ndim)"
   ]
  },
  {
   "cell_type": "code",
   "execution_count": 25,
   "id": "5098b4a7",
   "metadata": {},
   "outputs": [
    {
     "name": "stdout",
     "output_type": "stream",
     "text": [
      "[[[ 1  2  3]\n",
      "  [ 4  5  6]]\n",
      "\n",
      " [[ 7  8  9]\n",
      "  [13 11 12]]\n",
      "\n",
      " [[14 15 16]\n",
      "  [17 18 19]]]\n",
      "3\n"
     ]
    }
   ],
   "source": [
    "B = np.array([[[1,2,3],[4,5,6]],[[7,8,9],[13,11,12]],[[14,15,16],[17,18,19]]])\n",
    "print(B)\n",
    "print(B.ndim)"
   ]
  },
  {
   "cell_type": "markdown",
   "id": "23c924f8",
   "metadata": {},
   "source": [
    "6. SHAPE\n",
    "\n",
    "*The \"shape\" of an array is a tuple with the number\n",
    " of elements per axis (dimension).*"
   ]
  },
  {
   "cell_type": "code",
   "execution_count": 26,
   "id": "fdbb1ad2",
   "metadata": {},
   "outputs": [
    {
     "name": "stdout",
     "output_type": "stream",
     "text": [
      "()\n",
      "(5,)\n",
      "(3, 3)\n",
      "(3, 2, 3)\n"
     ]
    }
   ],
   "source": [
    "print(x.shape)\n",
    "print(y.shape)\n",
    "print(A.shape)\n",
    "print(B.shape)"
   ]
  },
  {
   "cell_type": "markdown",
   "id": "f4dadd2d",
   "metadata": {},
   "source": [
    "**INDEXING AND SLICING**"
   ]
  },
  {
   "cell_type": "markdown",
   "id": "0e530305",
   "metadata": {},
   "source": [
    "1. INDEXING"
   ]
  },
  {
   "cell_type": "code",
   "execution_count": 27,
   "id": "927c9f6a",
   "metadata": {},
   "outputs": [
    {
     "name": "stdout",
     "output_type": "stream",
     "text": [
      "4\n",
      "9\n"
     ]
    }
   ],
   "source": [
    "F = np.array([4,8,6,8,1,5,2,3,3,4,5,9])\n",
    "print(F[0])\n",
    "print(F[-1])"
   ]
  },
  {
   "cell_type": "code",
   "execution_count": 28,
   "id": "793c6e2f",
   "metadata": {},
   "outputs": [
    {
     "name": "stdout",
     "output_type": "stream",
     "text": [
      "[[  1   5   8]\n",
      " [  8   5   6]\n",
      " [111  65  82]]\n",
      "65\n",
      "65\n"
     ]
    }
   ],
   "source": [
    "D = np.array([ [1,5,8],\n",
    "             [8,5,6],\n",
    "             [111,65,82]])\n",
    "print(D)\n",
    "print(D[2][1])\n",
    "print(D[2,1])"
   ]
  },
  {
   "cell_type": "markdown",
   "id": "ae8ffbd2",
   "metadata": {},
   "source": [
    "We accessed an element in the third row, i.e. the row with the index 2, and the second column (index 1) with two ways."
   ]
  },
  {
   "cell_type": "code",
   "execution_count": 29,
   "id": "d41ed511",
   "metadata": {},
   "outputs": [
    {
     "name": "stdout",
     "output_type": "stream",
     "text": [
      "[1 2 3]\n"
     ]
    }
   ],
   "source": [
    "A = np.array([[1, 2, 3], [4,5,6],[7,8,9]])\n",
    "print(A[0])"
   ]
  },
  {
   "cell_type": "code",
   "execution_count": 30,
   "id": "a29c99a9",
   "metadata": {},
   "outputs": [
    {
     "name": "stdout",
     "output_type": "stream",
     "text": [
      "[[[ 1  2  3]\n",
      "  [ 4  5  6]]\n",
      "\n",
      " [[ 7  8  9]\n",
      "  [13 11 12]]\n",
      "\n",
      " [[14 15 16]\n",
      "  [17 18 19]]]\n",
      "Indexing line 2 of B :  [[14 15 16]\n",
      " [17 18 19]]\n"
     ]
    }
   ],
   "source": [
    "B = np.array([[[1,2,3],[4,5,6]],[[7,8,9],[13,11,12]],[[14,15,16],[17,18,19]]])\n",
    "print(B)\n",
    "print('Indexing line 2 of B : ', B[2])"
   ]
  },
  {
   "cell_type": "markdown",
   "id": "9a5565d6",
   "metadata": {},
   "source": [
    "2. SLICING"
   ]
  },
  {
   "cell_type": "code",
   "execution_count": 31,
   "id": "73e2c987",
   "metadata": {},
   "outputs": [
    {
     "name": "stdout",
     "output_type": "stream",
     "text": [
      "[2 3 4]\n",
      "[0 1 2 3]\n",
      "[6 7 8 9]\n",
      "[0 1 2 3 4 5 6 7 8 9]\n"
     ]
    }
   ],
   "source": [
    "S = np.array([0,1,2,3,4,5,6,7,8,9])\n",
    "print(S[2:5])\n",
    "print(S[:4])\n",
    "print(S[6:])\n",
    "print(S[:])"
   ]
  },
  {
   "cell_type": "markdown",
   "id": "9d2a84e8",
   "metadata": {},
   "source": [
    "For the two first cases, the the endpoint is never taken"
   ]
  },
  {
   "cell_type": "code",
   "execution_count": 32,
   "id": "b34e7078",
   "metadata": {},
   "outputs": [
    {
     "name": "stdout",
     "output_type": "stream",
     "text": [
      "[[4 5 6]\n",
      " [7 8 9]\n",
      " [1 2 3]\n",
      " [4 5 6]\n",
      " [7 8 9]]\n",
      "[[5]]\n",
      "[[5 6]\n",
      " [8 9]\n",
      " [2 3]]\n"
     ]
    }
   ],
   "source": [
    "A = np.array([[4,5,6],[7,8,9],[1, 2, 3], [4,5,6],[7,8,9]])\n",
    "print(A)\n",
    "print(A[0:1,1:2])\n",
    "print(A[:3,1:])"
   ]
  },
  {
   "cell_type": "code",
   "execution_count": 33,
   "id": "7a03aa52",
   "metadata": {},
   "outputs": [
    {
     "name": "stdout",
     "output_type": "stream",
     "text": [
      "[[1 2 3]\n",
      " [4 5 6]\n",
      " [7 8 9]]\n",
      "[[4 5 6]\n",
      " [7 8 9]]\n"
     ]
    }
   ],
   "source": [
    "A = np.array([[1, 2, 3], [4,5,6],[7,8,9]])\n",
    "print(A)\n",
    "print(A[1:,:])"
   ]
  },
  {
   "cell_type": "code",
   "execution_count": 34,
   "id": "6ac660aa",
   "metadata": {},
   "outputs": [
    {
     "name": "stdout",
     "output_type": "stream",
     "text": [
      "[[ 0  1  2  3  4  5  6]\n",
      " [ 7  8  9 10 11 12 13]\n",
      " [14 15 16 17 18 19 20]\n",
      " [21 22 23 24 25 26 27]]\n"
     ]
    }
   ],
   "source": [
    "C = np.arange(28).reshape(4,7)\n",
    "print(C)"
   ]
  },
  {
   "cell_type": "code",
   "execution_count": 35,
   "id": "0f14d9ee",
   "metadata": {},
   "outputs": [
    {
     "name": "stdout",
     "output_type": "stream",
     "text": [
      "[[ 0  3  6]\n",
      " [14 17 20]]\n"
     ]
    }
   ],
   "source": [
    "print(C[::2,::3])"
   ]
  },
  {
   "cell_type": "code",
   "execution_count": 36,
   "id": "55393034",
   "metadata": {},
   "outputs": [
    {
     "name": "stdout",
     "output_type": "stream",
     "text": [
      "[56 17 22 27 32 37 42 47]\n",
      "[56 17 22 27 32]\n"
     ]
    }
   ],
   "source": [
    "Q = np.arange(12,50,5)\n",
    "S = Q[0:5] \n",
    "S[0] = 56\n",
    "print(Q)\n",
    "print(S)"
   ]
  },
  {
   "cell_type": "markdown",
   "id": "3086aad3",
   "metadata": {},
   "source": [
    "So we get an another possibility to access the array, or better a part of the array"
   ]
  },
  {
   "cell_type": "markdown",
   "id": "066a350d",
   "metadata": {},
   "source": [
    "**CREATING ARRAYS WITH ONES, ZEROS AND EMPTY**\n",
    "\n",
    "*np.ones(tuple)*  \n",
    "*np.zeros(tuple)*  \n",
    "*np.empty(tuple)*"
   ]
  },
  {
   "cell_type": "code",
   "execution_count": 37,
   "id": "49557083",
   "metadata": {},
   "outputs": [
    {
     "name": "stdout",
     "output_type": "stream",
     "text": [
      "(6,)\n",
      "[1 1 1 1 1 1]\n",
      "[0 0 0 0 0 0]\n"
     ]
    }
   ],
   "source": [
    "x = np.array([4,5,7,2,9,3])\n",
    "print(x.shape)\n",
    "print(np.ones_like(x))\n",
    "print(np.zeros_like(x))"
   ]
  },
  {
   "cell_type": "markdown",
   "id": "cf981edb",
   "metadata": {},
   "source": [
    "There is another interesting way to create an array with Ones or with Zeros, if it has to have the same shape as\n",
    " another existing array 'a'. Numpy supplies for this purpose the methods **ones_like(a) and zeros_like(a)**."
   ]
  },
  {
   "cell_type": "code",
   "execution_count": 38,
   "id": "91880f2d",
   "metadata": {},
   "outputs": [
    {
     "data": {
      "text/plain": [
       "array([[0, 0, 0],\n",
       "       [0, 0, 0]])"
      ]
     },
     "execution_count": 38,
     "metadata": {},
     "output_type": "execute_result"
    }
   ],
   "source": [
    "np.empty((2,3),int)"
   ]
  },
  {
   "cell_type": "markdown",
   "id": "36d3d752",
   "metadata": {},
   "source": [
    "It creates and returns a reference to a new\n",
    " array of given shape and type, without initializing the entries."
   ]
  },
  {
   "cell_type": "markdown",
   "id": "af296706",
   "metadata": {},
   "source": [
    "**COPYING ARRAYS**\n",
    "\n",
    " *a.copy(order='C')*"
   ]
  },
  {
   "cell_type": "code",
   "execution_count": 39,
   "id": "585b9a32",
   "metadata": {},
   "outputs": [
    {
     "name": "stdout",
     "output_type": "stream",
     "text": [
      "[12 17 22 27 32 37 42 47]\n",
      "[56 17 22 27 32 37 42 47]\n"
     ]
    }
   ],
   "source": [
    "Q = np.arange(12,50,5)\n",
    "S = Q.copy()\n",
    "S[0] = 56\n",
    "print(Q)\n",
    "print(S)"
   ]
  },
  {
   "cell_type": "markdown",
   "id": "e8ddba3b",
   "metadata": {},
   "source": [
    "Return an array copy of the given array."
   ]
  },
  {
   "cell_type": "markdown",
   "id": "6284f6fc",
   "metadata": {},
   "source": [
    "**IDENTITY ARRAY**\n",
    "\n",
    "1. Identity function  \n",
    " *identity(n, dtype=None)*"
   ]
  },
  {
   "cell_type": "code",
   "execution_count": 40,
   "id": "95e0c082",
   "metadata": {},
   "outputs": [
    {
     "data": {
      "text/plain": [
       "array([[1, 0, 0, 0],\n",
       "       [0, 1, 0, 0],\n",
       "       [0, 0, 1, 0],\n",
       "       [0, 0, 0, 1]])"
      ]
     },
     "execution_count": 40,
     "metadata": {},
     "output_type": "execute_result"
    }
   ],
   "source": [
    "np.identity(4, int)"
   ]
  },
  {
   "cell_type": "markdown",
   "id": "d206df61",
   "metadata": {},
   "source": [
    "2. Eye function  \n",
    "*eye(N, M=None, k=0, dtype=float)*"
   ]
  },
  {
   "cell_type": "code",
   "execution_count": 41,
   "id": "07cef810",
   "metadata": {},
   "outputs": [
    {
     "data": {
      "text/plain": [
       "array([[1, 0, 0, 0],\n",
       "       [0, 1, 0, 0],\n",
       "       [0, 0, 1, 0]])"
      ]
     },
     "execution_count": 41,
     "metadata": {},
     "output_type": "execute_result"
    }
   ],
   "source": [
    "np.eye(3,4, k=0, dtype = int)"
   ]
  },
  {
   "cell_type": "code",
   "execution_count": 42,
   "id": "7b924cba",
   "metadata": {},
   "outputs": [
    {
     "data": {
      "text/plain": [
       "array([[0, 1, 0, 0],\n",
       "       [0, 0, 1, 0],\n",
       "       [0, 0, 0, 1]])"
      ]
     },
     "execution_count": 42,
     "metadata": {},
     "output_type": "execute_result"
    }
   ],
   "source": [
    "np.eye(3,4, k=1, dtype = int)"
   ]
  },
  {
   "cell_type": "code",
   "execution_count": 43,
   "id": "09186880",
   "metadata": {},
   "outputs": [
    {
     "data": {
      "text/plain": [
       "array([[0, 0, 0, 0],\n",
       "       [1, 0, 0, 0],\n",
       "       [0, 1, 0, 0]])"
      ]
     },
     "execution_count": 43,
     "metadata": {},
     "output_type": "execute_result"
    }
   ],
   "source": [
    "np.eye(3,4, k=-1, dtype = int)"
   ]
  },
  {
   "cell_type": "code",
   "execution_count": 44,
   "id": "52e42567",
   "metadata": {},
   "outputs": [
    {
     "data": {
      "text/plain": [
       "array([[0, 0, 0, 0, 1, 0, 0],\n",
       "       [0, 0, 0, 0, 0, 1, 0],\n",
       "       [0, 0, 0, 0, 0, 0, 1],\n",
       "       [0, 0, 0, 0, 0, 0, 0],\n",
       "       [0, 0, 0, 0, 0, 0, 0]])"
      ]
     },
     "execution_count": 44,
     "metadata": {},
     "output_type": "execute_result"
    }
   ],
   "source": [
    "np.eye(5,7, k=4, dtype = int)"
   ]
  },
  {
   "cell_type": "markdown",
   "id": "439b8344",
   "metadata": {},
   "source": [
    "**EXERCISES**"
   ]
  },
  {
   "cell_type": "markdown",
   "id": "7614c994",
   "metadata": {},
   "source": [
    "1.  Create an arbitrary one dimensional array called \"v\"."
   ]
  },
  {
   "cell_type": "code",
   "execution_count": 45,
   "id": "d5136f4b",
   "metadata": {},
   "outputs": [
    {
     "name": "stdout",
     "output_type": "stream",
     "text": [
      "v =  [84 14  0  1 27 57 24 82 64 55]\n",
      "v =  [ 0  1  2  3  4  5  6  7  8  9 10 11 12 13 14]\n",
      "v =  [15.   18.75 22.5  26.25 30.  ]\n"
     ]
    }
   ],
   "source": [
    "import numpy as np\n",
    "import random\n",
    "\n",
    "v = np.array(random.sample(range(100),10))\n",
    "print('v = ', v)\n",
    "v = np.arange(15)\n",
    "print('v = ', v)\n",
    "v = np.linspace(15,30,5)\n",
    "print('v = ', v)"
   ]
  },
  {
   "cell_type": "markdown",
   "id": "2d71a6f3",
   "metadata": {},
   "source": [
    "2. Create a new array which consists of the odd indices of previously created array \"v\""
   ]
  },
  {
   "cell_type": "code",
   "execution_count": 46,
   "id": "ed0a30c4",
   "metadata": {},
   "outputs": [
    {
     "name": "stdout",
     "output_type": "stream",
     "text": [
      "[18.75 26.25]\n"
     ]
    }
   ],
   "source": [
    "odd_elements = v[1::2]\n",
    "print(odd_elements)"
   ]
  },
  {
   "cell_type": "markdown",
   "id": "c0bca593",
   "metadata": {},
   "source": [
    "3. Create a new array in backwards ordering from v."
   ]
  },
  {
   "cell_type": "code",
   "execution_count": 47,
   "id": "ab77c945",
   "metadata": {},
   "outputs": [
    {
     "name": "stdout",
     "output_type": "stream",
     "text": [
      "[30.   26.25 22.5  18.75 15.  ]\n"
     ]
    }
   ],
   "source": [
    "y = v[::-1]\n",
    "print(y)"
   ]
  },
  {
   "cell_type": "markdown",
   "id": "9b6f1ef4",
   "metadata": {},
   "source": [
    "4. What will be the output of the following code:  \n",
    "a = np.array([1, 2, 3, 4, 5])\n",
    "b = a[1:4]  \n",
    "b[0] = 200  \n",
    "print(a[1])\n",
    "\n",
    "\n",
    "answer : a[1] = 200  \n",
    "because slices are views in numpy and not copies."
   ]
  },
  {
   "cell_type": "code",
   "execution_count": 48,
   "id": "c751296a",
   "metadata": {},
   "outputs": [
    {
     "name": "stdout",
     "output_type": "stream",
     "text": [
      "200\n"
     ]
    }
   ],
   "source": [
    "a = np.array([1, 2, 3, 4, 5])\n",
    "b = a[1:4]  \n",
    "b[0] = 200  \n",
    "print(a[1])"
   ]
  },
  {
   "cell_type": "markdown",
   "id": "0140385c",
   "metadata": {},
   "source": [
    "5. Create a two dimensional array called \"m\"."
   ]
  },
  {
   "cell_type": "code",
   "execution_count": 49,
   "id": "bd6d2caf",
   "metadata": {},
   "outputs": [
    {
     "name": "stdout",
     "output_type": "stream",
     "text": [
      "[[1 2 3]\n",
      " [4 5 6]\n",
      " [7 8 9]]\n",
      "2\n"
     ]
    }
   ],
   "source": [
    "m = np.array([[1,2,3],\n",
    "              [4,5,6],\n",
    "              [7,8,9]])\n",
    "print(m)\n",
    "print(m.ndim)"
   ]
  },
  {
   "cell_type": "markdown",
   "id": "046d4932",
   "metadata": {},
   "source": [
    "6. Create a new array from m, in which the elements of each row are in reverse order."
   ]
  },
  {
   "cell_type": "code",
   "execution_count": 50,
   "id": "be4349d7",
   "metadata": {},
   "outputs": [
    {
     "name": "stdout",
     "output_type": "stream",
     "text": [
      "[[3 2 1]\n",
      " [6 5 4]\n",
      " [9 8 7]]\n"
     ]
    }
   ],
   "source": [
    "n = m[:,::-1]\n",
    "print(n)"
   ]
  },
  {
   "cell_type": "markdown",
   "id": "55b56870",
   "metadata": {},
   "source": [
    "7. Another one, where the rows are in reverse order."
   ]
  },
  {
   "cell_type": "code",
   "execution_count": 51,
   "id": "4b179d0e",
   "metadata": {},
   "outputs": [
    {
     "name": "stdout",
     "output_type": "stream",
     "text": [
      "[[7 8 9]\n",
      " [4 5 6]\n",
      " [1 2 3]]\n"
     ]
    }
   ],
   "source": [
    "p = m[::-1,:]\n",
    "print(p)"
   ]
  },
  {
   "cell_type": "markdown",
   "id": "c5aee991",
   "metadata": {},
   "source": [
    "8. Create an array from m, where columns and rows are in reverse order."
   ]
  },
  {
   "cell_type": "code",
   "execution_count": 52,
   "id": "ffa7b78c",
   "metadata": {},
   "outputs": [
    {
     "name": "stdout",
     "output_type": "stream",
     "text": [
      "[[9 8 7]\n",
      " [6 5 4]\n",
      " [3 2 1]]\n"
     ]
    }
   ],
   "source": [
    "q = m[::-1,::-1]\n",
    "print(q)"
   ]
  },
  {
   "cell_type": "markdown",
   "id": "b97f73b4",
   "metadata": {},
   "source": [
    "9. Cut of the first and last row and the first and last column."
   ]
  },
  {
   "cell_type": "code",
   "execution_count": 53,
   "id": "3e63dc15",
   "metadata": {},
   "outputs": [
    {
     "name": "stdout",
     "output_type": "stream",
     "text": [
      "[[5]]\n"
     ]
    }
   ],
   "source": [
    "print(m[1:-1,1:-1])"
   ]
  },
  {
   "cell_type": "code",
   "execution_count": null,
   "id": "86fbbee7",
   "metadata": {},
   "outputs": [],
   "source": []
  }
 ],
 "metadata": {
  "kernelspec": {
   "display_name": "Python 3 (ipykernel)",
   "language": "python",
   "name": "python3"
  },
  "language_info": {
   "codemirror_mode": {
    "name": "ipython",
    "version": 3
   },
   "file_extension": ".py",
   "mimetype": "text/x-python",
   "name": "python",
   "nbconvert_exporter": "python",
   "pygments_lexer": "ipython3",
   "version": "3.11.5"
  }
 },
 "nbformat": 4,
 "nbformat_minor": 5
}
