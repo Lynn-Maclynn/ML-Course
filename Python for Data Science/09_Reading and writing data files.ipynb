{
 "cells": [
  {
   "cell_type": "code",
   "execution_count": 1,
   "id": "e4620be6",
   "metadata": {},
   "outputs": [],
   "source": [
    "import numpy as np"
   ]
  },
  {
   "cell_type": "markdown",
   "id": "58a73a09",
   "metadata": {},
   "source": [
    "**SAVING TEXTFILES WITH SAVETXT**\n",
    "\n",
    "*savetxt(fname, X, fmt='%.18e', delimiter=' ', newline='\\n', header='', footer='', comments='# ')*"
   ]
  },
  {
   "cell_type": "code",
   "execution_count": 3,
   "id": "9aecebe0",
   "metadata": {},
   "outputs": [],
   "source": [
    "x = np.array([[1, 2, 3],\n",
    "              [4, 5, 6],\n",
    "              [7, 8, 9]], np.int32)\n",
    " \n",
    "y = np.savetxt(\"test.txt\", x)\n",
    "z = np.savetxt(\"test2.txt\", x, fmt=\"%2.3f\", delimiter=\",\")\n",
    "w = np.savetxt(\"test3.txt\", x, fmt=\"%04d\", delimiter=\" :-) \")"
   ]
  },
  {
   "cell_type": "markdown",
   "id": "f2ecc9e2",
   "metadata": {},
   "source": [
    "**LOADING TEXTFILES WITH LOADTXT**"
   ]
  },
  {
   "cell_type": "code",
   "execution_count": 4,
   "id": "54fb0095",
   "metadata": {},
   "outputs": [
    {
     "name": "stdout",
     "output_type": "stream",
     "text": [
      "[[1. 2. 3.]\n",
      " [4. 5. 6.]\n",
      " [7. 8. 9.]]\n"
     ]
    }
   ],
   "source": [
    "a = np.loadtxt(\"test.txt\")\n",
    "print(a)"
   ]
  },
  {
   "cell_type": "code",
   "execution_count": 5,
   "id": "066633ea",
   "metadata": {},
   "outputs": [
    {
     "name": "stdout",
     "output_type": "stream",
     "text": [
      "[[1. 2. 3.]\n",
      " [4. 5. 6.]\n",
      " [7. 8. 9.]]\n"
     ]
    }
   ],
   "source": [
    "a = np.loadtxt(\"test2.txt\", delimiter=\",\")\n",
    "print(a)"
   ]
  },
  {
   "cell_type": "code",
   "execution_count": 12,
   "id": "8e08051f",
   "metadata": {},
   "outputs": [
    {
     "name": "stdout",
     "output_type": "stream",
     "text": [
      "[[1. 3.]\n",
      " [4. 6.]\n",
      " [7. 9.]]\n"
     ]
    }
   ],
   "source": [
    "a = np.loadtxt(\"test2.txt\", delimiter=\",\", usecols=(0,2))\n",
    "print(a)"
   ]
  },
  {
   "cell_type": "markdown",
   "id": "91f833ec",
   "metadata": {},
   "source": [
    "*We will read in our next example the file \"times_and_temperatures.txt\", which we have created in our chapter on Generators of our Python tutorial. Every line contains a time in the format \"hh::mm::ss\" and random\n",
    " temperatures between 10.0 and 25.0 degrees. We have to convert the time string into float numbers. The time will be in minutes with seconds in the hundred.*"
   ]
  },
  {
   "cell_type": "code",
   "execution_count": 30,
   "id": "ef2432c6",
   "metadata": {},
   "outputs": [],
   "source": [
    "def time2float_minutes(time):\n",
    "    if type(time) == bytes:\n",
    "        time = time.decode()\n",
    "    t = time.split(\":\")\n",
    "    minutes = float(t[0])*60 + float(t[1]) + float(t[2]) * 0.05 / 3\n",
    "    return minutes"
   ]
  },
  {
   "cell_type": "code",
   "execution_count": 31,
   "id": "1ca91daf",
   "metadata": {},
   "outputs": [
    {
     "name": "stdout",
     "output_type": "stream",
     "text": [
      "360.1666666666667\n",
      "387.75\n",
      "779.9833333333333\n"
     ]
    }
   ],
   "source": [
    "for t in [\"06:00:10\", \"06:27:45\", \"12:59:59\"]:\n",
    "    print(time2float_minutes(t))"
   ]
  },
  {
   "cell_type": "markdown",
   "id": "02b63a74",
   "metadata": {},
   "source": [
    "We use **\";\"** as delimiter instead of whitespace and change the filename into *times_temperatures*."
   ]
  },
  {
   "cell_type": "code",
   "execution_count": 78,
   "id": "fafb0405",
   "metadata": {},
   "outputs": [],
   "source": [
    "from timerange import trange\n",
    "import random\n",
    "\n",
    "fh = open(\"times_temperatures.txt\", \"w\")\n",
    "\n",
    "for time in trange((6, 0, 0), (23, 0, 0), (0, 1, 30) ):\n",
    "    random_number = random.randint(100, 250) / 10\n",
    "    lst = time + (random_number,)\n",
    "    output = \"{:02d}:{:02d}:{:02d};{:4.1f}\\n\".format(*lst)\n",
    "    fh.write(output)"
   ]
  },
  {
   "cell_type": "code",
   "execution_count": 87,
   "id": "8096759a",
   "metadata": {},
   "outputs": [
    {
     "name": "stdout",
     "output_type": "stream",
     "text": [
      "[[ 360.    11.1]\n",
      " [ 361.5   22.4]\n",
      " [ 363.    15. ]\n",
      " ...\n",
      " [1375.5   23. ]\n",
      " [1377.    23.2]\n",
      " [1378.5   22.2]]\n"
     ]
    }
   ],
   "source": [
    "y = np.loadtxt(\"times_temperatures.txt\", delimiter = \";\", converters={ 0: time2float_minutes}, usecols=(0,1))\n",
    "print(y)"
   ]
  },
  {
   "cell_type": "code",
   "execution_count": 88,
   "id": "8a84a2d9",
   "metadata": {},
   "outputs": [
    {
     "name": "stdout",
     "output_type": "stream",
     "text": [
      "[11.1 22.4 15.  21.6 16.4 15.9 16.9 21.5 10.6 22.1]\n"
     ]
    }
   ],
   "source": [
    "y = np.loadtxt(\"times_temperatures.txt\", delimiter = \";\", converters={ 0: time2float_minutes}, usecols=(1))\n",
    "print(y[0:10])"
   ]
  },
  {
   "cell_type": "markdown",
   "id": "722208a5",
   "metadata": {},
   "source": [
    "We work with the same example as in the book"
   ]
  },
  {
   "cell_type": "code",
   "execution_count": 80,
   "id": "a3c2ddf9",
   "metadata": {},
   "outputs": [
    {
     "name": "stdout",
     "output_type": "stream",
     "text": [
      "[[ 360.    19.8]\n",
      " [ 361.5   23.3]\n",
      " [ 363.    16.7]\n",
      " ...\n",
      " [1375.5   20.4]\n",
      " [1377.    20.8]\n",
      " [1378.5   22.1]]\n"
     ]
    }
   ],
   "source": [
    "y = np.loadtxt(\"times_and_temperatures.txt\", converters={ 0: time2float_minutes})\n",
    "print(y)"
   ]
  },
  {
   "cell_type": "code",
   "execution_count": 81,
   "id": "c8ee6f0b",
   "metadata": {},
   "outputs": [
    {
     "name": "stdout",
     "output_type": "stream",
     "text": [
      "[ 360.  435.  510.  585.  660.  735.  810.  885.  960. 1035. 1110. 1185.\n",
      " 1260. 1335.]\n"
     ]
    }
   ],
   "source": [
    "y = np.loadtxt(\"times_and_temperatures.txt\", converters={ 0: time2float_minutes}, usecols=(0))\n",
    "print(y[::50])"
   ]
  },
  {
   "cell_type": "code",
   "execution_count": 82,
   "id": "53fd65b9",
   "metadata": {},
   "outputs": [
    {
     "name": "stdout",
     "output_type": "stream",
     "text": [
      "[360. 435. 510. 585. 660. 735.]\n"
     ]
    }
   ],
   "source": [
    "y = np.loadtxt(\"times_and_temperatures.txt\", usecols=(0), converters={ 0: time2float_minutes})\n",
    "print(y[0:300:50])"
   ]
  },
  {
   "cell_type": "code",
   "execution_count": 83,
   "id": "d75371c0",
   "metadata": {},
   "outputs": [],
   "source": [
    "a = np.savetxt(\"test4.txt\", y, fmt = \"%2.1f\", delimiter=\",\")"
   ]
  },
  {
   "cell_type": "code",
   "execution_count": 84,
   "id": "a05bfb78",
   "metadata": {},
   "outputs": [
    {
     "name": "stdout",
     "output_type": "stream",
     "text": [
      "(680,)\n"
     ]
    }
   ],
   "source": [
    "b = np.loadtxt(\"test4.txt\", delimiter=\",\", usecols=(0))\n",
    "print(b.shape)"
   ]
  },
  {
   "cell_type": "code",
   "execution_count": null,
   "id": "e67a055f",
   "metadata": {},
   "outputs": [],
   "source": []
  }
 ],
 "metadata": {
  "kernelspec": {
   "display_name": "Python 3 (ipykernel)",
   "language": "python",
   "name": "python3"
  },
  "language_info": {
   "codemirror_mode": {
    "name": "ipython",
    "version": 3
   },
   "file_extension": ".py",
   "mimetype": "text/x-python",
   "name": "python",
   "nbconvert_exporter": "python",
   "pygments_lexer": "ipython3",
   "version": "3.11.5"
  }
 },
 "nbformat": 4,
 "nbformat_minor": 5
}
