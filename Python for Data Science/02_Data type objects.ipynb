{
 "cells": [
  {
   "cell_type": "code",
   "execution_count": 1,
   "id": "80d37532",
   "metadata": {},
   "outputs": [],
   "source": [
    "import numpy as np"
   ]
  },
  {
   "cell_type": "code",
   "execution_count": 12,
   "id": "e49eafbd",
   "metadata": {},
   "outputs": [
    {
     "name": "stdout",
     "output_type": "stream",
     "text": [
      "int16\n"
     ]
    }
   ],
   "source": [
    "i16 = np.dtype(np.int16)\n",
    "print(i16)"
   ]
  },
  {
   "cell_type": "code",
   "execution_count": 13,
   "id": "b67d3092",
   "metadata": {},
   "outputs": [
    {
     "data": {
      "text/plain": [
       "array([[  0.        ,   4.25925926,   8.51851852,  12.77777778,\n",
       "         17.03703704,  21.2962963 ,  25.55555556],\n",
       "       [ 29.81481481,  34.07407407,  38.33333333,  42.59259259,\n",
       "         46.85185185,  51.11111111,  55.37037037],\n",
       "       [ 59.62962963,  63.88888889,  68.14814815,  72.40740741,\n",
       "         76.66666667,  80.92592593,  85.18518519],\n",
       "       [ 89.44444444,  93.7037037 ,  97.96296296, 102.22222222,\n",
       "        106.48148148, 110.74074074, 115.        ]])"
      ]
     },
     "execution_count": 13,
     "metadata": {},
     "output_type": "execute_result"
    }
   ],
   "source": [
    "lst = np.linspace(0,115,28).reshape(4,7)\n",
    "lst"
   ]
  },
  {
   "cell_type": "code",
   "execution_count": 14,
   "id": "8ee067b1",
   "metadata": {},
   "outputs": [
    {
     "name": "stdout",
     "output_type": "stream",
     "text": [
      "[[  0   4   8  12  17  21  25]\n",
      " [ 29  34  38  42  46  51  55]\n",
      " [ 59  63  68  72  76  80  85]\n",
      " [ 89  93  97 102 106 110 115]]\n"
     ]
    }
   ],
   "source": [
    "A = np.array(lst, dtype = i16)\n",
    "print(A)"
   ]
  },
  {
   "cell_type": "markdown",
   "id": "af5a33b3",
   "metadata": {},
   "source": [
    "**STRUCTURE ARRAY**"
   ]
  },
  {
   "cell_type": "code",
   "execution_count": 18,
   "id": "23093eda",
   "metadata": {},
   "outputs": [
    {
     "name": "stdout",
     "output_type": "stream",
     "text": [
      "[(393,) (337,) (256,)]\n",
      "[(393,) (337,) (256,)]\n"
     ]
    }
   ],
   "source": [
    "import numpy as np\n",
    "\n",
    "dt = np.dtype([('density', np.int32)])\n",
    "\n",
    "x = np.array([(393,), (337,), (256,)], dtype = dt)\n",
    "print(x)\n",
    "y = np.array([393, 337, 256], dtype = dt)\n",
    "print(y)"
   ]
  },
  {
   "cell_type": "code",
   "execution_count": 19,
   "id": "a9871a52",
   "metadata": {},
   "outputs": [
    {
     "name": "stdout",
     "output_type": "stream",
     "text": [
      "[393 337 256]\n"
     ]
    }
   ],
   "source": [
    "print(x['density'])"
   ]
  },
  {
   "cell_type": "code",
   "execution_count": 29,
   "id": "284019f4",
   "metadata": {},
   "outputs": [
    {
     "name": "stdout",
     "output_type": "stream",
     "text": [
      "[(393,) (337,) (256,)]\n"
     ]
    }
   ],
   "source": [
    "import numpy as np\n",
    "\n",
    "dt = np.dtype([('density', 'i4')])\n",
    "\n",
    "x = np.array([(393,), (337,), (256,)], dtype = dt)\n",
    "print(x)"
   ]
  },
  {
   "cell_type": "code",
   "execution_count": 58,
   "id": "598db2f8",
   "metadata": {},
   "outputs": [
    {
     "name": "stdout",
     "output_type": "stream",
     "text": [
      "[(b'Netherlands', 393,  41526, 16928800)\n",
      " (b'Belguim', 337,  30510, 11007020)\n",
      " (b'United Kingdom', 256, 243610, 62262000)\n",
      " (b'Germany', 233, 357021, 81799600)]\n"
     ]
    }
   ],
   "source": [
    "import numpy as np\n",
    "\n",
    "dt = np.dtype([('Country','S20'),\n",
    "               ('Density', 'i4'),\n",
    "               ('Area','i4'),('Population','i4')])\n",
    "\n",
    "population_table = np.array([\n",
    "    ('Netherlands', 393, 41526, 16928800),\n",
    "    ('Belguim', 337, 30510, 11007020),\n",
    "    ('United Kingdom', 256, 243610, 62262000),\n",
    "    ('Germany', 233, 357021, 81799600),\n",
    "    ('Liechtensien', 205, 160, 32842),\n",
    "    ('Italy', 192, 301230, 59715625),\n",
    "    ('Switzerland', 177, 41290, 7301994),\n",
    "    ('Luxembourg', 173, 2586, 512000),\n",
    "    ('France', 111, 547030, 63601002),\n",
    "    ('Austria', 97, 83858, 8169929),\n",
    "    ('Greece', 81, 131940, 11606813),\n",
    "    ('Ireland', 65, 70280, 4581269),\n",
    "    ('Sweden', 20, 449964, 9515744),\n",
    "    ('Finland', 16, 338424,5140233),\n",
    "    ('Norway', 13, 385252, 5033675)], dtype = dt)\n",
    "print(population_table[:4])"
   ]
  },
  {
   "cell_type": "code",
   "execution_count": 59,
   "id": "ae63eaa0",
   "metadata": {},
   "outputs": [
    {
     "name": "stdout",
     "output_type": "stream",
     "text": [
      "[393 337 256 233 205 192 177 173 111  97  81  65  20  16  13]\n",
      "[b'Netherlands' b'Belguim' b'United Kingdom' b'Germany' b'Liechtensien'\n",
      " b'Italy' b'Switzerland' b'Luxembourg' b'France' b'Austria' b'Greece'\n",
      " b'Ireland' b'Sweden' b'Finland' b'Norway']\n",
      "[243610 357021    160]\n"
     ]
    }
   ],
   "source": [
    "print(population_table['Density'])\n",
    "print(population_table['Country'])\n",
    "print(population_table['Area'][2:5])"
   ]
  },
  {
   "cell_type": "markdown",
   "id": "fbe6ef30",
   "metadata": {},
   "source": [
    "**INPUT AND OUTPUT OF STRUCTURED ARRAYS**\n",
    "\n",
    "*1. Save into a file*"
   ]
  },
  {
   "cell_type": "code",
   "execution_count": 60,
   "id": "78135105",
   "metadata": {},
   "outputs": [],
   "source": [
    "np.savetxt('population_table.csv',\n",
    "          population_table,\n",
    "          fmt = \"%s;%d;%d;%d\",\n",
    "          delimiter = \";\")"
   ]
  },
  {
   "cell_type": "markdown",
   "id": "458474bb",
   "metadata": {},
   "source": [
    "*2. read the file created*"
   ]
  },
  {
   "cell_type": "code",
   "execution_count": 68,
   "id": "38ef82fd",
   "metadata": {},
   "outputs": [
    {
     "name": "stdout",
     "output_type": "stream",
     "text": [
      "[b\"b'United Kingdom'\" b\"b'Germany'\" b\"b'Liechtensien'\"]\n"
     ]
    }
   ],
   "source": [
    "dt = np.dtype([('Country', 'S20'),\n",
    "               ('Density', 'i4'),\n",
    "               ('Area', 'i4'), ('Population','i4')])\n",
    "\n",
    "x = np.genfromtxt(\"population_table.csv\", dtype = dt,\n",
    "               delimiter = \";\")\n",
    "print(x['Country'][2:5])"
   ]
  },
  {
   "cell_type": "code",
   "execution_count": 76,
   "id": "eddbd436",
   "metadata": {},
   "outputs": [
    {
     "name": "stdout",
     "output_type": "stream",
     "text": [
      "<class 'numpy.bytes_'>\n",
      "<class 'numpy.int32'>\n",
      "301262\n",
      "[b\"b'United Kingdom'\" b\"b'Germany'\" b\"b'Liechtensien'\"]\n"
     ]
    }
   ],
   "source": [
    "dt = np.dtype([('Country', 'S20'),\n",
    "               ('Density', 'i4'),\n",
    "               ('Area', 'i4'), ('Population','i4')])\n",
    "\n",
    "x = np.loadtxt(\"population_table.csv\", dtype = dt,\n",
    "               converters = {0: lambda x: x.decode('utf-8')},\n",
    "               delimiter = \";\")\n",
    "d = x['Country'][5]\n",
    "s = x['Area'][5]\n",
    "print(type(d))\n",
    "print(type(s))\n",
    "print(s + 32)\n",
    "print(x['Country'][2:5])"
   ]
  },
  {
   "cell_type": "markdown",
   "id": "ff7f07fa",
   "metadata": {},
   "source": [
    "**EXERCISE**"
   ]
  },
  {
   "cell_type": "markdown",
   "id": "84ccbff9",
   "metadata": {},
   "source": [
    "1.  Define a structured array with two columns. The first column contains the product ID, which can\n",
    " be defined as an int32. The second column shall contain the price for the product. How can you\n",
    " print out the column with the product IDs, the first row and the price for the third article of this\n",
    " structured array?"
   ]
  },
  {
   "cell_type": "code",
   "execution_count": 87,
   "id": "32922b52",
   "metadata": {},
   "outputs": [
    {
     "name": "stdout",
     "output_type": "stream",
     "text": [
      "The products ID are : [1145878 1145879 1145880 1145881 1145882]\n",
      "the first row is : (1145878, 100.75)\n",
      "The price for the third article is : 50.15\n"
     ]
    }
   ],
   "source": [
    "import numpy as np\n",
    "\n",
    "art_type = np.dtype([('product ID', 'i4'),('price', np.float64)])\n",
    "\n",
    "articles = np.array([\n",
    "    (1145878, 100.75),\n",
    "    (1145879, 150.50),\n",
    "    (1145880, 50.150), \n",
    "    (1145881, 90.87),\n",
    "    (1145882, 154.64)], dtype = art_type)\n",
    "print('The products ID are :', articles['product ID'])\n",
    "print('the first row is :', articles[0])\n",
    "print('The price for the third article is :', articles['price'][2])"
   ]
  },
  {
   "cell_type": "markdown",
   "id": "088e7b36",
   "metadata": {},
   "source": [
    "2. Figure out a data type definition for time records with entries for hours, minutes and seconds."
   ]
  },
  {
   "cell_type": "code",
   "execution_count": 90,
   "id": "b3257ee2",
   "metadata": {},
   "outputs": [],
   "source": [
    "import numpy as np\n",
    "\n",
    "time_type = np.dtype([('hours', int),\n",
    "               ('minutes', int),\n",
    "               ('seconds', int)])"
   ]
  },
  {
   "cell_type": "code",
   "execution_count": null,
   "id": "57d9fc68",
   "metadata": {},
   "outputs": [],
   "source": []
  },
  {
   "cell_type": "code",
   "execution_count": null,
   "id": "be219543",
   "metadata": {},
   "outputs": [],
   "source": []
  },
  {
   "cell_type": "code",
   "execution_count": null,
   "id": "fc938513",
   "metadata": {},
   "outputs": [],
   "source": []
  }
 ],
 "metadata": {
  "kernelspec": {
   "display_name": "Python 3 (ipykernel)",
   "language": "python",
   "name": "python3"
  },
  "language_info": {
   "codemirror_mode": {
    "name": "ipython",
    "version": 3
   },
   "file_extension": ".py",
   "mimetype": "text/x-python",
   "name": "python",
   "nbconvert_exporter": "python",
   "pygments_lexer": "ipython3",
   "version": "3.11.5"
  }
 },
 "nbformat": 4,
 "nbformat_minor": 5
}
