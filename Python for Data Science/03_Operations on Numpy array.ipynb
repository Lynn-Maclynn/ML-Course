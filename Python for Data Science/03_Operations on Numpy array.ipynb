{
 "cells": [
  {
   "cell_type": "code",
   "execution_count": 1,
   "id": "f3618fa5",
   "metadata": {},
   "outputs": [
    {
     "name": "stdout",
     "output_type": "stream",
     "text": [
      "6\n",
      "I am a woman\n"
     ]
    }
   ],
   "source": [
    "print(4+2)\n",
    "print('I am a ' + 'woman')"
   ]
  },
  {
   "cell_type": "markdown",
   "id": "661f6884",
   "metadata": {},
   "source": [
    "The operator sign \"+\" can be used for the addition of numerical values and the concatenation of strings. We say that this operator is overloaded.\n",
    " \n",
    "The operator signs are *overloaded* in Numpy as well, so that they can be used in a \"natural\" way. **We can, for example, add a scalar to an ndarray, i.e. the scalar will be added to every component**. The same is possible for subtraction, division, multiplication and even for applying functions, like sine, cosine and so on, to an array."
   ]
  },
  {
   "cell_type": "code",
   "execution_count": 2,
   "id": "1fb92605",
   "metadata": {},
   "outputs": [
    {
     "name": "stdout",
     "output_type": "stream",
     "text": [
      "[ 3.   6.1  7.3  3.6 10.6 11.2  8.7  9.4]\n"
     ]
    }
   ],
   "source": [
    "import numpy as np\n",
    "\n",
    "lst = [1, 4.1, 5.3, 1.6, 8.6, 9.2, 6.7, 7.4]\n",
    "v = np.array(lst)\n",
    "v = v+2\n",
    "\n",
    "print(v)"
   ]
  },
  {
   "cell_type": "code",
   "execution_count": 3,
   "id": "42fb0317",
   "metadata": {},
   "outputs": [
    {
     "name": "stdout",
     "output_type": "stream",
     "text": [
      "[1.5 4.6 5.8 2.1 9.1 9.7 7.2 7.9]\n"
     ]
    }
   ],
   "source": [
    "print(v - 1.5)"
   ]
  },
  {
   "cell_type": "code",
   "execution_count": 4,
   "id": "5eca7817",
   "metadata": {},
   "outputs": [
    {
     "name": "stdout",
     "output_type": "stream",
     "text": [
      "[12.  24.4 29.2 14.4 42.4 44.8 34.8 37.6]\n"
     ]
    }
   ],
   "source": [
    "print(v * 4)"
   ]
  },
  {
   "cell_type": "code",
   "execution_count": 5,
   "id": "31917c53",
   "metadata": {},
   "outputs": [
    {
     "name": "stdout",
     "output_type": "stream",
     "text": [
      "[1.5  3.05 3.65 1.8  5.3  5.6  4.35 4.7 ]\n"
     ]
    }
   ],
   "source": [
    "print(v/2)"
   ]
  },
  {
   "cell_type": "code",
   "execution_count": 6,
   "id": "ef8da045",
   "metadata": {},
   "outputs": [
    {
     "name": "stdout",
     "output_type": "stream",
     "text": [
      "[  9.    37.21  53.29  12.96 112.36 125.44  75.69  88.36]\n"
     ]
    }
   ],
   "source": [
    "print(v**2)"
   ]
  },
  {
   "cell_type": "code",
   "execution_count": 7,
   "id": "e18c5b64",
   "metadata": {},
   "outputs": [
    {
     "name": "stdout",
     "output_type": "stream",
     "text": [
      "[1.73205081 2.46981781 2.70185122 1.8973666  3.25576412 3.34664011\n",
      " 2.94957624 3.06594194]\n"
     ]
    }
   ],
   "source": [
    "print(np.sqrt(v))"
   ]
  },
  {
   "cell_type": "markdown",
   "id": "56611deb",
   "metadata": {},
   "source": [
    "As we say it before, operators on a ndarray applies to all element in de array.\n",
    "\n",
    "To have the same result with a list, we shamm use the list comprehension technique as shown below :"
   ]
  },
  {
   "cell_type": "code",
   "execution_count": 12,
   "id": "6cc5a6c6",
   "metadata": {},
   "outputs": [
    {
     "name": "stdout",
     "output_type": "stream",
     "text": [
      "[3, 6.1, 7.3, 3.6, 10.6, 11.2, 8.7, 9.4]\n",
      "[1.5, 4.6, 5.8, 2.1, 9.1, 9.7, 7.199999999999999, 7.9]\n",
      "[12, 24.4, 29.2, 14.4, 42.4, 44.8, 34.8, 37.6]\n",
      "[1.5, 3.05, 3.65, 1.8, 5.3, 5.6, 4.35, 4.7]\n",
      "[9, 37.209999999999994, 53.29, 12.96, 112.36, 125.43999999999998, 75.68999999999998, 88.36000000000001]\n",
      "[1.7320508075688772, 2.4698178070456938, 2.701851217221259, 1.8973665961010275, 3.255764119219941, 3.3466401061363023, 2.949576240750525, 3.0659419433511785]\n"
     ]
    }
   ],
   "source": [
    "import math\n",
    "\n",
    "lst = [1, 4.1, 5.3, 1.6, 8.6, 9.2, 6.7, 7.4]\n",
    "\n",
    "res = [val+2 for val in lst]\n",
    "res2 = [val-1.5 for val in res]\n",
    "res3 = [val*4 for val in res]\n",
    "res4 = [val/2 for val in res]\n",
    "res5 = [val**2 for val in res]\n",
    "res6 = [math.sqrt(val) for val in res]\n",
    "print(res)\n",
    "print(res2)\n",
    "print(res3)\n",
    "print(res4)\n",
    "print(res5)\n",
    "print(res6)"
   ]
  },
  {
   "cell_type": "code",
   "execution_count": 14,
   "id": "0e1f94f4",
   "metadata": {},
   "outputs": [
    {
     "name": "stdout",
     "output_type": "stream",
     "text": [
      "[[1.  4.1 5.3]\n",
      " [1.6 8.6 9.2]\n",
      " [6.7 7.4 2.8]]\n"
     ]
    }
   ],
   "source": [
    "import numpy as np\n",
    "\n",
    "lst = [1.0, 4.1, 5.3, 1.6, 8.6, 9.2, 6.7, 7.4, 2.8]\n",
    "v = np.array(lst)\n",
    "v = v.reshape(3,3)\n",
    "print(v)"
   ]
  },
  {
   "cell_type": "code",
   "execution_count": 16,
   "id": "650bc90c",
   "metadata": {},
   "outputs": [
    {
     "name": "stdout",
     "output_type": "stream",
     "text": [
      "Addition between scalar an array \n",
      "[[ 3.   6.1  7.3]\n",
      " [ 3.6 10.6 11.2]\n",
      " [ 8.7  9.4  4.8]]\n",
      "Substraction between scalar an array \n",
      "[[-0.5  2.6  3.8]\n",
      " [ 0.1  7.1  7.7]\n",
      " [ 5.2  5.9  1.3]]\n",
      "Multiplication between scalar an array \n",
      "[[ 4.  16.4 21.2]\n",
      " [ 6.4 34.4 36.8]\n",
      " [26.8 29.6 11.2]]\n",
      "Division between scalar an array \n",
      "[[0.5  2.05 2.65]\n",
      " [0.8  4.3  4.6 ]\n",
      " [3.35 3.7  1.4 ]]\n",
      "Exponentiation between scalar an array \n",
      "[[ 1.   16.81 28.09]\n",
      " [ 2.56 73.96 84.64]\n",
      " [44.89 54.76  7.84]]\n",
      "Square-root between scalar an array \n",
      "[[1.         2.02484567 2.30217289]\n",
      " [1.26491106 2.93257566 3.03315018]\n",
      " [2.58843582 2.7202941  1.67332005]]\n"
     ]
    }
   ],
   "source": [
    "print(\"Addition between scalar an array \")\n",
    "print(v + 2)\n",
    "print(\"Substraction between scalar an array \")\n",
    "print(v - 1.5)\n",
    "print(\"Multiplication between scalar an array \")\n",
    "print(v * 4)\n",
    "print(\"Division between scalar an array \")\n",
    "print(v/2)\n",
    "print(\"Exponentiation between scalar an array \")\n",
    "print(v**2)\n",
    "print(\"Square-root between scalar an array \")\n",
    "print(np.sqrt(v))"
   ]
  },
  {
   "cell_type": "markdown",
   "id": "45f83dbb",
   "metadata": {},
   "source": [
    "**ARITHMETIC OPERATIONS WITH TWO ARRAYS**\n",
    "\n",
    "If we use another array instead of a scalar, the elements of both arrays will be component-wise combined"
   ]
  },
  {
   "cell_type": "code",
   "execution_count": 19,
   "id": "b47b372a",
   "metadata": {},
   "outputs": [
    {
     "name": "stdout",
     "output_type": "stream",
     "text": [
      "Addition of A AND B\n",
      "[[12. 13. 14.]\n",
      " [22. 23. 24.]\n",
      " [32. 33. 34.]]\n",
      "Multiplication of A and B\n",
      "[[22. 24. 26.]\n",
      " [42. 44. 46.]\n",
      " [62. 64. 66.]]\n"
     ]
    }
   ],
   "source": [
    "import numpy as np\n",
    "\n",
    "A = np.array([ [11,12,13], [21,22,23], [31,32,33] ])\n",
    "B = np.ones((3,3))\n",
    "\n",
    "print(\"Addition of A AND B\")\n",
    "print(A+B)\n",
    "print(\"Multiplication of A and B\")\n",
    "print(A*(B+1))"
   ]
  },
  {
   "cell_type": "markdown",
   "id": "b8272478",
   "metadata": {},
   "source": [
    "Don't mistake A*B for a matrix multiplication\n",
    "\n",
    "For matrix multiplication, use the **dot product** as shown below :"
   ]
  },
  {
   "cell_type": "code",
   "execution_count": 20,
   "id": "89587030",
   "metadata": {},
   "outputs": [
    {
     "data": {
      "text/plain": [
       "array([[36., 36., 36.],\n",
       "       [66., 66., 66.],\n",
       "       [96., 96., 96.]])"
      ]
     },
     "execution_count": 20,
     "metadata": {},
     "output_type": "execute_result"
    }
   ],
   "source": [
    "np.dot(A,B)"
   ]
  },
  {
   "cell_type": "markdown",
   "id": "d4363604",
   "metadata": {},
   "source": [
    "In two dimensional use, we have :"
   ]
  },
  {
   "cell_type": "code",
   "execution_count": 22,
   "id": "507d77d4",
   "metadata": {},
   "outputs": [
    {
     "name": "stdout",
     "output_type": "stream",
     "text": [
      "True 3\n",
      "True 3\n",
      "[[ 7  7 17  4]\n",
      " [ 9  9 19  0]]\n"
     ]
    }
   ],
   "source": [
    "A = np.array([ [1, 2, 3],\n",
    "               [3, 2, 1] ])\n",
    "B = np.array([ [2, 3, 4,-2],\n",
    "               [1,-1, 2, 3],\n",
    "               [1, 2, 3, 0] ])\n",
    "# es muss gelten:\n",
    "print(A.shape[-1] == B.shape[-2], A.shape[1]) #I have to \n",
    "                                            #remember this line\n",
    "\n",
    "print(A.shape[1]== B.shape[0], A.shape[1])\n",
    "print(np.dot(A, B))"
   ]
  },
  {
   "cell_type": "markdown",
   "id": "d91c1ce7",
   "metadata": {},
   "source": [
    "**THE DOT PRODUCT IN THE 3-DIMENSIONAL CASE**\n",
    "\n",
    "I shall learn it after :)"
   ]
  },
  {
   "cell_type": "markdown",
   "id": "04c2a870",
   "metadata": {},
   "source": [
    "**MATRICES VS. TWO-DIMENSIONAL ARRAYS**\n",
    "\n",
    "There are \"real\" matrices in Numpy. They are a subset of the two-dimensional arrays. The main difference shows, if you multiply two two-dimensional arrays or two matrices. **We get real matrix multiplication by multiplying two matrices**, but the two-dimensional arrays will be only multiplied component-wise"
   ]
  },
  {
   "cell_type": "code",
   "execution_count": 23,
   "id": "46603762",
   "metadata": {},
   "outputs": [
    {
     "name": "stdout",
     "output_type": "stream",
     "text": [
      "Multiplication between two 2darrays\n",
      "[[ 3  4  3]\n",
      " [ 2  4  6]\n",
      " [-3 -6 -9]]\n",
      "Multiplication between two matrix\n",
      "[[ 2  0 -2]\n",
      " [ 6  4  2]\n",
      " [ 9  6  3]]\n"
     ]
    }
   ],
   "source": [
    "import numpy as np\n",
    " \n",
    "A = np.array([ [1, 2, 3], [2, 2, 2], [3, 3, 3] ])\n",
    "B = np.array([ [3, 2, 1], [1, 2, 3], [-1,-2,-3] ])\n",
    " \n",
    "print(\"Multiplication between two 2darrays\")\n",
    "print(A * B)\n",
    "\n",
    "#Matrix transformation\n",
    "MA = np.mat(A)\n",
    "MB = np.mat(B)\n",
    "\n",
    "print(\"Multiplication between two matrix\")\n",
    "print(MA * MB)"
   ]
  },
  {
   "cell_type": "markdown",
   "id": "15724191",
   "metadata": {},
   "source": [
    "**COMPARISON OPERATORS**"
   ]
  },
  {
   "cell_type": "code",
   "execution_count": 24,
   "id": "4c106f2d",
   "metadata": {},
   "outputs": [
    {
     "data": {
      "text/plain": [
       "array([[ True, False,  True],\n",
       "       [False,  True, False],\n",
       "       [ True,  True, False]])"
      ]
     },
     "execution_count": 24,
     "metadata": {},
     "output_type": "execute_result"
    }
   ],
   "source": [
    "import numpy as np\n",
    " \n",
    "A = np.array([ [11, 12, 13], [21, 22, 23], [31, 32, 33] ])\n",
    "B = np.array([ [11, 102, 13], [201, 22, 203], [31, 32, 303] ])\n",
    " \n",
    "A == B"
   ]
  },
  {
   "cell_type": "markdown",
   "id": "ea3713e2",
   "metadata": {},
   "source": [
    "When we compare two arrays, we don't get a simple True or False as a return value. The comparisons are performed elementswise. This means that we get a Boolean array as a return value. But it is possible to compare complete arrays for equality as well. We use **array_equal** for this purpose :"
   ]
  },
  {
   "cell_type": "code",
   "execution_count": 25,
   "id": "d7b50b22",
   "metadata": {},
   "outputs": [
    {
     "name": "stdout",
     "output_type": "stream",
     "text": [
      "False\n",
      "True\n"
     ]
    }
   ],
   "source": [
    "print(np.array_equal(A, B))\n",
    "print(np.array_equal(A, A))"
   ]
  },
  {
   "cell_type": "markdown",
   "id": "1a1fa56f",
   "metadata": {},
   "source": [
    "**LOGICAL OPERATORS**"
   ]
  },
  {
   "cell_type": "code",
   "execution_count": 26,
   "id": "3c5c95ff",
   "metadata": {},
   "outputs": [
    {
     "name": "stdout",
     "output_type": "stream",
     "text": [
      "[[ True  True]\n",
      " [ True False]]\n",
      "[[ True False]\n",
      " [False False]]\n"
     ]
    }
   ],
   "source": [
    "import numpy as np\n",
    "\n",
    "a = np.array([ [True, True], [False, False]])\n",
    "b = np.array([ [True, False], [True, False]])\n",
    " \n",
    "print(np.logical_or(a, b))\n",
    "print(np.logical_and(a, b))"
   ]
  },
  {
   "cell_type": "code",
   "execution_count": 27,
   "id": "94bdc773",
   "metadata": {},
   "outputs": [
    {
     "name": "stdout",
     "output_type": "stream",
     "text": [
      "[[ True  True]\n",
      " [ True False]]\n",
      "[[ True False]\n",
      " [False False]]\n"
     ]
    }
   ],
   "source": [
    "import numpy as np\n",
    "\n",
    "a = np.array([ [1, 1], [0, 0]])\n",
    "b = np.array([ [1, 0], [1, 0]])\n",
    " \n",
    "print(np.logical_or(a, b))\n",
    "print(np.logical_and(a, b))"
   ]
  },
  {
   "cell_type": "code",
   "execution_count": 32,
   "id": "d4615f69",
   "metadata": {},
   "outputs": [
    {
     "name": "stdout",
     "output_type": "stream",
     "text": [
      "[[ True  True]\n",
      " [ True  True]]\n",
      "[[ True False]\n",
      " [ True False]]\n"
     ]
    }
   ],
   "source": [
    "a = np.array([ [1, 2], [-0.15, 0.25]])\n",
    "b = np.array([ [4, 0], [11, 0]])\n",
    " \n",
    "print(np.logical_or(a, b))\n",
    "print(np.logical_and(a, b))"
   ]
  },
  {
   "cell_type": "markdown",
   "id": "400e535d",
   "metadata": {},
   "source": [
    "**BROADCASTING**"
   ]
  },
  {
   "cell_type": "code",
   "execution_count": 33,
   "id": "44b5e59c",
   "metadata": {},
   "outputs": [
    {
     "name": "stdout",
     "output_type": "stream",
     "text": [
      "Multiplication with broadcasting: \n",
      "[[11 24 39]\n",
      " [21 44 69]\n",
      " [31 64 99]]\n",
      "... and now addition with broadcasting: \n",
      "[[12 14 16]\n",
      " [22 24 26]\n",
      " [32 34 36]]\n"
     ]
    }
   ],
   "source": [
    "import numpy as np\n",
    "\n",
    "A = np.array([ [11, 12, 13], [21, 22, 23], [31, 32, 33] ])\n",
    "B = np.array([1, 2, 3])\n",
    " \n",
    "print(\"Multiplication with broadcasting: \")\n",
    "print(A * B)\n",
    "print(\"... and now addition with broadcasting: \")\n",
    "print(A + B)"
   ]
  },
  {
   "cell_type": "markdown",
   "id": "26d32889",
   "metadata": {},
   "source": [
    "We have a smaller array and a larger array, and we transform or apply the smaller array multiple times to perform some operation on the larger array.  The smaller array is **\"broadcasted\"** in a way that it has the same shape as the larger array."
   ]
  },
  {
   "cell_type": "code",
   "execution_count": 34,
   "id": "cfaef5dc",
   "metadata": {},
   "outputs": [
    {
     "data": {
      "text/plain": [
       "array([[1],\n",
       "       [2],\n",
       "       [3]])"
      ]
     },
     "execution_count": 34,
     "metadata": {},
     "output_type": "execute_result"
    }
   ],
   "source": [
    "B = np.array([1, 2, 3])\n",
    "B[:, np.newaxis]"
   ]
  },
  {
   "cell_type": "markdown",
   "id": "eeb33e5f",
   "metadata": {},
   "source": [
    "Here, we turn a row vector into a column vector.\n",
    "\n",
    "Now we are capable of doing the multipliplication using broadcasting:"
   ]
  },
  {
   "cell_type": "code",
   "execution_count": 35,
   "id": "1e4b470c",
   "metadata": {},
   "outputs": [
    {
     "data": {
      "text/plain": [
       "array([[11, 12, 13],\n",
       "       [42, 44, 46],\n",
       "       [93, 96, 99]])"
      ]
     },
     "execution_count": 35,
     "metadata": {},
     "output_type": "execute_result"
    }
   ],
   "source": [
    "A * B[:, np.newaxis]"
   ]
  },
  {
   "cell_type": "code",
   "execution_count": 90,
   "id": "08932fbe",
   "metadata": {},
   "outputs": [
    {
     "name": "stdout",
     "output_type": "stream",
     "text": [
      "B is construed like a 3*3 array like this \n",
      "[[1 2 3]\n",
      " [1 2 3]\n",
      " [1 2 3]]\n",
      "...............or like this \n",
      "[[1 2 3]\n",
      " [1 2 3]\n",
      " [1 2 3]]\n",
      "C is the transpose of B \n",
      "[[1 1 1]\n",
      " [2 2 2]\n",
      " [3 3 3]]\n"
     ]
    }
   ],
   "source": [
    "B = np.array([1,2,3])\n",
    "\n",
    "print(\"B is construed like a 3*3 array like this \")\n",
    "print(np.array([B,] * 3))\n",
    "\n",
    "print(\"...............or like this \")\n",
    "\n",
    "B = B[np.newaxis,:]\n",
    "print(np.concatenate((B,B,B)))"
   ]
  },
  {
   "cell_type": "code",
   "execution_count": 92,
   "id": "66103f62",
   "metadata": {},
   "outputs": [
    {
     "name": "stdout",
     "output_type": "stream",
     "text": [
      "C is the transpose of B \n",
      "[[1 1 1]\n",
      " [2 2 2]\n",
      " [3 3 3]]\n"
     ]
    }
   ],
   "source": [
    "B = np.array([1,2,3])\n",
    "\n",
    "\n",
    "C = np.array([B,] * 3).transpose()\n",
    "print(\"C is the transpose of B \")\n",
    "print(C)"
   ]
  },
  {
   "cell_type": "code",
   "execution_count": 60,
   "id": "e0fb24de",
   "metadata": {},
   "outputs": [
    {
     "name": "stdout",
     "output_type": "stream",
     "text": [
      "[1 2 3 1 2 3]\n"
     ]
    },
    {
     "data": {
      "text/plain": [
       "1"
      ]
     },
     "execution_count": 60,
     "metadata": {},
     "output_type": "execute_result"
    }
   ],
   "source": [
    "B = np.array([1,2,3])\n",
    "print(np.concatenate((B,B)))\n",
    "B.ndim"
   ]
  },
  {
   "cell_type": "code",
   "execution_count": 63,
   "id": "930ead1d",
   "metadata": {},
   "outputs": [
    {
     "name": "stdout",
     "output_type": "stream",
     "text": [
      "[[1]\n",
      " [2]\n",
      " [3]\n",
      " [1]\n",
      " [2]\n",
      " [3]]\n"
     ]
    },
    {
     "data": {
      "text/plain": [
       "2"
      ]
     },
     "execution_count": 63,
     "metadata": {},
     "output_type": "execute_result"
    }
   ],
   "source": [
    "B = np.array([1,2,3])\n",
    "B = B[:, np.newaxis]\n",
    "B = np.concatenate((B,B))\n",
    "\n",
    "print(B)\n",
    "B.ndim"
   ]
  },
  {
   "cell_type": "code",
   "execution_count": 74,
   "id": "d7040763",
   "metadata": {},
   "outputs": [
    {
     "data": {
      "text/plain": [
       "array([[10, 20, 30],\n",
       "       [20, 40, 60],\n",
       "       [30, 60, 90]])"
      ]
     },
     "execution_count": 74,
     "metadata": {},
     "output_type": "execute_result"
    }
   ],
   "source": [
    "#With broadcasting\n",
    "A = np.array([10, 20, 30])\n",
    "B = np.array([1, 2, 3])\n",
    "\n",
    "A[:, np.newaxis]*B"
   ]
  },
  {
   "cell_type": "code",
   "execution_count": 81,
   "id": "8602fcd3",
   "metadata": {},
   "outputs": [
    {
     "data": {
      "text/plain": [
       "array([[10, 20, 30],\n",
       "       [20, 40, 60],\n",
       "       [30, 60, 90]])"
      ]
     },
     "execution_count": 81,
     "metadata": {},
     "output_type": "execute_result"
    }
   ],
   "source": [
    "#Without broadcasting\n",
    "A = np.array([10, 20, 30])\n",
    "B = np.array([1, 2, 3])\n",
    "\n",
    "A = np.transpose([A,]*3)\n",
    "#A = np.array([A,]*3).transpose()\n",
    "B = B[np.newaxis,:]\n",
    "B = np.concatenate((B,B,B))\n",
    "\n",
    "A*B"
   ]
  },
  {
   "cell_type": "code",
   "execution_count": 83,
   "id": "c5225e3f",
   "metadata": {},
   "outputs": [
    {
     "name": "stdout",
     "output_type": "stream",
     "text": [
      "Multiplication without broadcasting: \n",
      "[[11 24 39]\n",
      " [21 44 69]\n",
      " [31 64 99]]\n",
      "... and now addition with broadcasting: \n",
      "[[12 14 16]\n",
      " [22 24 26]\n",
      " [32 34 36]]\n"
     ]
    }
   ],
   "source": [
    "#Without broadcasting\n",
    "\n",
    "import numpy as np\n",
    "\n",
    "A = np.array([ [11, 12, 13], [21, 22, 23], [31, 32, 33] ])\n",
    "B = np.array([1, 2, 3])\n",
    " \n",
    "B = B[np.newaxis,:]\n",
    "B = np.concatenate((B,B,B))\n",
    "print(\"Multiplication without broadcasting: \")\n",
    "print(A * B)\n",
    "print(\"... and now addition with broadcasting: \")\n",
    "print(A + B)"
   ]
  },
  {
   "cell_type": "code",
   "execution_count": 102,
   "id": "75eb956a",
   "metadata": {},
   "outputs": [
    {
     "name": "stdout",
     "output_type": "stream",
     "text": [
      "[[   0 1498 1063 1968 1498 1758 1469 1472 2230 2391 1138  505]\n",
      " [1498    0  435  470    0  260   29   26  732  893  360  993]\n",
      " [1063  435    0  905  435  695  406  409 1167 1328   75  558]\n",
      " [1968  470  905    0  470  210  499  496  262  423  830 1463]\n",
      " [1498    0  435  470    0  260   29   26  732  893  360  993]\n",
      " [1758  260  695  210  260    0  289  286  472  633  620 1253]\n",
      " [1469   29  406  499   29  289    0    3  761  922  331  964]\n",
      " [1472   26  409  496   26  286    3    0  758  919  334  967]\n",
      " [2230  732 1167  262  732  472  761  758    0  161 1092 1725]\n",
      " [2391  893 1328  423  893  633  922  919  161    0 1253 1886]\n",
      " [1138  360   75  830  360  620  331  334 1092 1253    0  633]\n",
      " [ 505  993  558 1463  993 1253  964  967 1725 1886  633    0]]\n"
     ]
    }
   ],
   "source": [
    "dist2barcelona = [0, 1498, 1063, 1968,\n",
    " 1498, 1758, 1469, 1472, 2230,\n",
    " 2391, 1138, 505, 725, 3007, 1055,\n",
    " 833, 1354, 857, 2813,\n",
    " 2277, 1347, 1862]\n",
    "dists = np.array(dist2barcelona[:12])\n",
    "#print(dists)     # row vector\n",
    "#print(dists[:, np.newaxis])    # column vector\n",
    "print(np.abs(dists-dists[:, np.newaxis]))"
   ]
  },
  {
   "cell_type": "markdown",
   "id": "a6ecf391",
   "metadata": {},
   "source": [
    "Here is a **distance matrix** whose calculation requires broadcasting"
   ]
  },
  {
   "cell_type": "markdown",
   "id": "43ab2098",
   "metadata": {},
   "source": [
    "**3-DIMENSIONAL BROADCASTING**\n",
    "\n",
    "I shall learn it after"
   ]
  },
  {
   "cell_type": "code",
   "execution_count": null,
   "id": "161b3c37",
   "metadata": {},
   "outputs": [],
   "source": []
  }
 ],
 "metadata": {
  "kernelspec": {
   "display_name": "Python 3 (ipykernel)",
   "language": "python",
   "name": "python3"
  },
  "language_info": {
   "codemirror_mode": {
    "name": "ipython",
    "version": 3
   },
   "file_extension": ".py",
   "mimetype": "text/x-python",
   "name": "python",
   "nbconvert_exporter": "python",
   "pygments_lexer": "ipython3",
   "version": "3.11.5"
  }
 },
 "nbformat": 4,
 "nbformat_minor": 5
}
